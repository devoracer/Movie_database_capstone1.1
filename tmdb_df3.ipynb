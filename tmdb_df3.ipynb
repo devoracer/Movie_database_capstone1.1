{
 "cells": [
  {
   "cell_type": "code",
   "execution_count": 1,
   "id": "a2e1ba3b",
   "metadata": {},
   "outputs": [],
   "source": [
    "import pandas as pd\n",
    "import numpy as np\n",
    "import matplotlib.pyplot as plt"
   ]
  },
  {
   "cell_type": "markdown",
   "id": "23351b4c",
   "metadata": {},
   "source": [
    "### Import relevant libraries and take a look at the dataframe"
   ]
  },
  {
   "cell_type": "code",
   "execution_count": 2,
   "id": "a250a9b1",
   "metadata": {},
   "outputs": [],
   "source": [
    "df3 = pd.read_csv('tmdb-movies.csv')"
   ]
  },
  {
   "cell_type": "code",
   "execution_count": 3,
   "id": "054fe38a",
   "metadata": {},
   "outputs": [
    {
     "data": {
      "text/html": [
       "<div>\n",
       "<style scoped>\n",
       "    .dataframe tbody tr th:only-of-type {\n",
       "        vertical-align: middle;\n",
       "    }\n",
       "\n",
       "    .dataframe tbody tr th {\n",
       "        vertical-align: top;\n",
       "    }\n",
       "\n",
       "    .dataframe thead th {\n",
       "        text-align: right;\n",
       "    }\n",
       "</style>\n",
       "<table border=\"1\" class=\"dataframe\">\n",
       "  <thead>\n",
       "    <tr style=\"text-align: right;\">\n",
       "      <th></th>\n",
       "      <th>id</th>\n",
       "      <th>imdb_id</th>\n",
       "      <th>popularity</th>\n",
       "      <th>budget</th>\n",
       "      <th>revenue</th>\n",
       "      <th>original_title</th>\n",
       "      <th>cast</th>\n",
       "      <th>homepage</th>\n",
       "      <th>director</th>\n",
       "      <th>tagline</th>\n",
       "      <th>...</th>\n",
       "      <th>overview</th>\n",
       "      <th>runtime</th>\n",
       "      <th>genres</th>\n",
       "      <th>production_companies</th>\n",
       "      <th>release_date</th>\n",
       "      <th>vote_count</th>\n",
       "      <th>vote_average</th>\n",
       "      <th>release_year</th>\n",
       "      <th>budget_adj</th>\n",
       "      <th>revenue_adj</th>\n",
       "    </tr>\n",
       "  </thead>\n",
       "  <tbody>\n",
       "    <tr>\n",
       "      <th>0</th>\n",
       "      <td>135397</td>\n",
       "      <td>tt0369610</td>\n",
       "      <td>32.985763</td>\n",
       "      <td>150000000</td>\n",
       "      <td>1513528810</td>\n",
       "      <td>Jurassic World</td>\n",
       "      <td>Chris Pratt|Bryce Dallas Howard|Irrfan Khan|Vi...</td>\n",
       "      <td>http://www.jurassicworld.com/</td>\n",
       "      <td>Colin Trevorrow</td>\n",
       "      <td>The park is open.</td>\n",
       "      <td>...</td>\n",
       "      <td>Twenty-two years after the events of Jurassic ...</td>\n",
       "      <td>124</td>\n",
       "      <td>Action|Adventure|Science Fiction|Thriller</td>\n",
       "      <td>Universal Studios|Amblin Entertainment|Legenda...</td>\n",
       "      <td>6/9/15</td>\n",
       "      <td>5562</td>\n",
       "      <td>6.5</td>\n",
       "      <td>2015</td>\n",
       "      <td>1.379999e+08</td>\n",
       "      <td>1.392446e+09</td>\n",
       "    </tr>\n",
       "    <tr>\n",
       "      <th>1</th>\n",
       "      <td>76341</td>\n",
       "      <td>tt1392190</td>\n",
       "      <td>28.419936</td>\n",
       "      <td>150000000</td>\n",
       "      <td>378436354</td>\n",
       "      <td>Mad Max: Fury Road</td>\n",
       "      <td>Tom Hardy|Charlize Theron|Hugh Keays-Byrne|Nic...</td>\n",
       "      <td>http://www.madmaxmovie.com/</td>\n",
       "      <td>George Miller</td>\n",
       "      <td>What a Lovely Day.</td>\n",
       "      <td>...</td>\n",
       "      <td>An apocalyptic story set in the furthest reach...</td>\n",
       "      <td>120</td>\n",
       "      <td>Action|Adventure|Science Fiction|Thriller</td>\n",
       "      <td>Village Roadshow Pictures|Kennedy Miller Produ...</td>\n",
       "      <td>5/13/15</td>\n",
       "      <td>6185</td>\n",
       "      <td>7.1</td>\n",
       "      <td>2015</td>\n",
       "      <td>1.379999e+08</td>\n",
       "      <td>3.481613e+08</td>\n",
       "    </tr>\n",
       "    <tr>\n",
       "      <th>2</th>\n",
       "      <td>262500</td>\n",
       "      <td>tt2908446</td>\n",
       "      <td>13.112507</td>\n",
       "      <td>110000000</td>\n",
       "      <td>295238201</td>\n",
       "      <td>Insurgent</td>\n",
       "      <td>Shailene Woodley|Theo James|Kate Winslet|Ansel...</td>\n",
       "      <td>http://www.thedivergentseries.movie/#insurgent</td>\n",
       "      <td>Robert Schwentke</td>\n",
       "      <td>One Choice Can Destroy You</td>\n",
       "      <td>...</td>\n",
       "      <td>Beatrice Prior must confront her inner demons ...</td>\n",
       "      <td>119</td>\n",
       "      <td>Adventure|Science Fiction|Thriller</td>\n",
       "      <td>Summit Entertainment|Mandeville Films|Red Wago...</td>\n",
       "      <td>3/18/15</td>\n",
       "      <td>2480</td>\n",
       "      <td>6.3</td>\n",
       "      <td>2015</td>\n",
       "      <td>1.012000e+08</td>\n",
       "      <td>2.716190e+08</td>\n",
       "    </tr>\n",
       "  </tbody>\n",
       "</table>\n",
       "<p>3 rows × 21 columns</p>\n",
       "</div>"
      ],
      "text/plain": [
       "       id    imdb_id  popularity     budget     revenue      original_title  \\\n",
       "0  135397  tt0369610   32.985763  150000000  1513528810      Jurassic World   \n",
       "1   76341  tt1392190   28.419936  150000000   378436354  Mad Max: Fury Road   \n",
       "2  262500  tt2908446   13.112507  110000000   295238201           Insurgent   \n",
       "\n",
       "                                                cast  \\\n",
       "0  Chris Pratt|Bryce Dallas Howard|Irrfan Khan|Vi...   \n",
       "1  Tom Hardy|Charlize Theron|Hugh Keays-Byrne|Nic...   \n",
       "2  Shailene Woodley|Theo James|Kate Winslet|Ansel...   \n",
       "\n",
       "                                         homepage          director  \\\n",
       "0                   http://www.jurassicworld.com/   Colin Trevorrow   \n",
       "1                     http://www.madmaxmovie.com/     George Miller   \n",
       "2  http://www.thedivergentseries.movie/#insurgent  Robert Schwentke   \n",
       "\n",
       "                      tagline  ...  \\\n",
       "0           The park is open.  ...   \n",
       "1          What a Lovely Day.  ...   \n",
       "2  One Choice Can Destroy You  ...   \n",
       "\n",
       "                                            overview runtime  \\\n",
       "0  Twenty-two years after the events of Jurassic ...     124   \n",
       "1  An apocalyptic story set in the furthest reach...     120   \n",
       "2  Beatrice Prior must confront her inner demons ...     119   \n",
       "\n",
       "                                      genres  \\\n",
       "0  Action|Adventure|Science Fiction|Thriller   \n",
       "1  Action|Adventure|Science Fiction|Thriller   \n",
       "2         Adventure|Science Fiction|Thriller   \n",
       "\n",
       "                                production_companies release_date vote_count  \\\n",
       "0  Universal Studios|Amblin Entertainment|Legenda...       6/9/15       5562   \n",
       "1  Village Roadshow Pictures|Kennedy Miller Produ...      5/13/15       6185   \n",
       "2  Summit Entertainment|Mandeville Films|Red Wago...      3/18/15       2480   \n",
       "\n",
       "   vote_average  release_year    budget_adj   revenue_adj  \n",
       "0           6.5          2015  1.379999e+08  1.392446e+09  \n",
       "1           7.1          2015  1.379999e+08  3.481613e+08  \n",
       "2           6.3          2015  1.012000e+08  2.716190e+08  \n",
       "\n",
       "[3 rows x 21 columns]"
      ]
     },
     "execution_count": 3,
     "metadata": {},
     "output_type": "execute_result"
    }
   ],
   "source": [
    "df3.head(3)"
   ]
  },
  {
   "cell_type": "markdown",
   "id": "27ed5c5a",
   "metadata": {},
   "source": [
    "First off I want to see the total revenue, in descending order.  We find that Avatar has the highest revenue in the entire database.  Which, very soon it will become the first move to ever gross $3Billion dollars in revenue."
   ]
  },
  {
   "cell_type": "code",
   "execution_count": 4,
   "id": "99df585d",
   "metadata": {},
   "outputs": [
    {
     "data": {
      "text/html": [
       "<div>\n",
       "<style scoped>\n",
       "    .dataframe tbody tr th:only-of-type {\n",
       "        vertical-align: middle;\n",
       "    }\n",
       "\n",
       "    .dataframe tbody tr th {\n",
       "        vertical-align: top;\n",
       "    }\n",
       "\n",
       "    .dataframe thead th {\n",
       "        text-align: right;\n",
       "    }\n",
       "</style>\n",
       "<table border=\"1\" class=\"dataframe\">\n",
       "  <thead>\n",
       "    <tr style=\"text-align: right;\">\n",
       "      <th></th>\n",
       "      <th>id</th>\n",
       "      <th>imdb_id</th>\n",
       "      <th>popularity</th>\n",
       "      <th>budget</th>\n",
       "      <th>revenue</th>\n",
       "      <th>original_title</th>\n",
       "      <th>cast</th>\n",
       "      <th>homepage</th>\n",
       "      <th>director</th>\n",
       "      <th>tagline</th>\n",
       "      <th>...</th>\n",
       "      <th>overview</th>\n",
       "      <th>runtime</th>\n",
       "      <th>genres</th>\n",
       "      <th>production_companies</th>\n",
       "      <th>release_date</th>\n",
       "      <th>vote_count</th>\n",
       "      <th>vote_average</th>\n",
       "      <th>release_year</th>\n",
       "      <th>budget_adj</th>\n",
       "      <th>revenue_adj</th>\n",
       "    </tr>\n",
       "  </thead>\n",
       "  <tbody>\n",
       "    <tr>\n",
       "      <th>1386</th>\n",
       "      <td>19995</td>\n",
       "      <td>tt0499549</td>\n",
       "      <td>9.432768</td>\n",
       "      <td>237000000</td>\n",
       "      <td>2781505847</td>\n",
       "      <td>Avatar</td>\n",
       "      <td>Sam Worthington|Zoe Saldana|Sigourney Weaver|S...</td>\n",
       "      <td>http://www.avatarmovie.com/</td>\n",
       "      <td>James Cameron</td>\n",
       "      <td>Enter the World of Pandora.</td>\n",
       "      <td>...</td>\n",
       "      <td>In the 22nd century, a paraplegic Marine is di...</td>\n",
       "      <td>162</td>\n",
       "      <td>Action|Adventure|Fantasy|Science Fiction</td>\n",
       "      <td>Ingenious Film Partners|Twentieth Century Fox ...</td>\n",
       "      <td>12/10/09</td>\n",
       "      <td>8458</td>\n",
       "      <td>7.1</td>\n",
       "      <td>2009</td>\n",
       "      <td>2.408869e+08</td>\n",
       "      <td>2.827124e+09</td>\n",
       "    </tr>\n",
       "    <tr>\n",
       "      <th>1329</th>\n",
       "      <td>11</td>\n",
       "      <td>tt0076759</td>\n",
       "      <td>12.037933</td>\n",
       "      <td>11000000</td>\n",
       "      <td>775398007</td>\n",
       "      <td>Star Wars</td>\n",
       "      <td>Mark Hamill|Harrison Ford|Carrie Fisher|Peter ...</td>\n",
       "      <td>http://www.starwars.com/films/star-wars-episod...</td>\n",
       "      <td>George Lucas</td>\n",
       "      <td>A long time ago in a galaxy far, far away...</td>\n",
       "      <td>...</td>\n",
       "      <td>Princess Leia is captured and held hostage by ...</td>\n",
       "      <td>121</td>\n",
       "      <td>Adventure|Action|Science Fiction</td>\n",
       "      <td>Lucasfilm|Twentieth Century Fox Film Corporation</td>\n",
       "      <td>3/20/77</td>\n",
       "      <td>4428</td>\n",
       "      <td>7.9</td>\n",
       "      <td>1977</td>\n",
       "      <td>3.957559e+07</td>\n",
       "      <td>2.789712e+09</td>\n",
       "    </tr>\n",
       "    <tr>\n",
       "      <th>5231</th>\n",
       "      <td>597</td>\n",
       "      <td>tt0120338</td>\n",
       "      <td>4.355219</td>\n",
       "      <td>200000000</td>\n",
       "      <td>1845034188</td>\n",
       "      <td>Titanic</td>\n",
       "      <td>Kate Winslet|Leonardo DiCaprio|Frances Fisher|...</td>\n",
       "      <td>http://www.titanicmovie.com/menu.html</td>\n",
       "      <td>James Cameron</td>\n",
       "      <td>Nothing on Earth could come between them.</td>\n",
       "      <td>...</td>\n",
       "      <td>84 years later, a 101-year-old woman named Ros...</td>\n",
       "      <td>194</td>\n",
       "      <td>Drama|Romance|Thriller</td>\n",
       "      <td>Paramount Pictures|Twentieth Century Fox Film ...</td>\n",
       "      <td>11/18/97</td>\n",
       "      <td>4654</td>\n",
       "      <td>7.3</td>\n",
       "      <td>1997</td>\n",
       "      <td>2.716921e+08</td>\n",
       "      <td>2.506406e+09</td>\n",
       "    </tr>\n",
       "    <tr>\n",
       "      <th>10594</th>\n",
       "      <td>9552</td>\n",
       "      <td>tt0070047</td>\n",
       "      <td>2.010733</td>\n",
       "      <td>8000000</td>\n",
       "      <td>441306145</td>\n",
       "      <td>The Exorcist</td>\n",
       "      <td>Linda Blair|Max von Sydow|Ellen Burstyn|Jason ...</td>\n",
       "      <td>http://theexorcist.warnerbros.com/</td>\n",
       "      <td>William Friedkin</td>\n",
       "      <td>Something almost beyond comprehension is happe...</td>\n",
       "      <td>...</td>\n",
       "      <td>12-year-old Regan MacNeil begins to adapt an e...</td>\n",
       "      <td>122</td>\n",
       "      <td>Drama|Horror|Thriller</td>\n",
       "      <td>Warner Bros.|Hoya Productions</td>\n",
       "      <td>12/26/73</td>\n",
       "      <td>1113</td>\n",
       "      <td>7.2</td>\n",
       "      <td>1973</td>\n",
       "      <td>3.928928e+07</td>\n",
       "      <td>2.167325e+09</td>\n",
       "    </tr>\n",
       "    <tr>\n",
       "      <th>9806</th>\n",
       "      <td>578</td>\n",
       "      <td>tt0073195</td>\n",
       "      <td>2.563191</td>\n",
       "      <td>7000000</td>\n",
       "      <td>470654000</td>\n",
       "      <td>Jaws</td>\n",
       "      <td>Roy Scheider|Robert Shaw|Richard Dreyfuss|Lorr...</td>\n",
       "      <td>http://www.jaws25.com/</td>\n",
       "      <td>Steven Spielberg</td>\n",
       "      <td>Don't go in the water.</td>\n",
       "      <td>...</td>\n",
       "      <td>An insatiable great white shark terrorizes the...</td>\n",
       "      <td>124</td>\n",
       "      <td>Horror|Thriller|Adventure</td>\n",
       "      <td>Universal Pictures|Zanuck/Brown Productions</td>\n",
       "      <td>6/18/75</td>\n",
       "      <td>1415</td>\n",
       "      <td>7.3</td>\n",
       "      <td>1975</td>\n",
       "      <td>2.836275e+07</td>\n",
       "      <td>1.907006e+09</td>\n",
       "    </tr>\n",
       "    <tr>\n",
       "      <th>...</th>\n",
       "      <td>...</td>\n",
       "      <td>...</td>\n",
       "      <td>...</td>\n",
       "      <td>...</td>\n",
       "      <td>...</td>\n",
       "      <td>...</td>\n",
       "      <td>...</td>\n",
       "      <td>...</td>\n",
       "      <td>...</td>\n",
       "      <td>...</td>\n",
       "      <td>...</td>\n",
       "      <td>...</td>\n",
       "      <td>...</td>\n",
       "      <td>...</td>\n",
       "      <td>...</td>\n",
       "      <td>...</td>\n",
       "      <td>...</td>\n",
       "      <td>...</td>\n",
       "      <td>...</td>\n",
       "      <td>...</td>\n",
       "      <td>...</td>\n",
       "    </tr>\n",
       "    <tr>\n",
       "      <th>5761</th>\n",
       "      <td>255718</td>\n",
       "      <td>tt3504064</td>\n",
       "      <td>0.322876</td>\n",
       "      <td>0</td>\n",
       "      <td>0</td>\n",
       "      <td>Barbie: The Pearl Princess</td>\n",
       "      <td>Katie Crown|Brian Doe|Patrick Gilmore|Simon Hi...</td>\n",
       "      <td>NaN</td>\n",
       "      <td>Terry Klassen</td>\n",
       "      <td>NaN</td>\n",
       "      <td>...</td>\n",
       "      <td>Barbie plays Lumina, a mermaid girl with the p...</td>\n",
       "      <td>73</td>\n",
       "      <td>Family|Animation</td>\n",
       "      <td>Universal Pictures Corporation</td>\n",
       "      <td>2/19/13</td>\n",
       "      <td>23</td>\n",
       "      <td>6.2</td>\n",
       "      <td>2013</td>\n",
       "      <td>0.000000e+00</td>\n",
       "      <td>0.000000e+00</td>\n",
       "    </tr>\n",
       "    <tr>\n",
       "      <th>5760</th>\n",
       "      <td>57210</td>\n",
       "      <td>tt1833888</td>\n",
       "      <td>0.326279</td>\n",
       "      <td>0</td>\n",
       "      <td>0</td>\n",
       "      <td>Angels Sing</td>\n",
       "      <td>Chandler Canterbury|Willie Nelson|Harry Connic...</td>\n",
       "      <td>http://www.whenangelssingmovie.com/</td>\n",
       "      <td>Tim McCanlies</td>\n",
       "      <td>Christmas comes but once a year, but the memor...</td>\n",
       "      <td>...</td>\n",
       "      <td>As a child, Michael Walker wished every day co...</td>\n",
       "      <td>87</td>\n",
       "      <td>TV Movie|Family|Drama</td>\n",
       "      <td>When Angels Sing</td>\n",
       "      <td>10/19/13</td>\n",
       "      <td>12</td>\n",
       "      <td>5.4</td>\n",
       "      <td>2013</td>\n",
       "      <td>0.000000e+00</td>\n",
       "      <td>0.000000e+00</td>\n",
       "    </tr>\n",
       "    <tr>\n",
       "      <th>5759</th>\n",
       "      <td>159092</td>\n",
       "      <td>tt2318527</td>\n",
       "      <td>0.326562</td>\n",
       "      <td>2500000</td>\n",
       "      <td>0</td>\n",
       "      <td>Hell Baby</td>\n",
       "      <td>Rob Corddry|Leslie Bibb|Keegan-Michael Key|Pau...</td>\n",
       "      <td>NaN</td>\n",
       "      <td>Ben Garant|Thomas Lennon</td>\n",
       "      <td>The Devil got a baby mama.</td>\n",
       "      <td>...</td>\n",
       "      <td>After she and her husband move into a haunted ...</td>\n",
       "      <td>98</td>\n",
       "      <td>Comedy|Horror</td>\n",
       "      <td>Darko Entertainment</td>\n",
       "      <td>9/6/13</td>\n",
       "      <td>60</td>\n",
       "      <td>4.4</td>\n",
       "      <td>2013</td>\n",
       "      <td>2.340083e+06</td>\n",
       "      <td>0.000000e+00</td>\n",
       "    </tr>\n",
       "    <tr>\n",
       "      <th>5758</th>\n",
       "      <td>170039</td>\n",
       "      <td>tt2299248</td>\n",
       "      <td>0.326734</td>\n",
       "      <td>2000000</td>\n",
       "      <td>0</td>\n",
       "      <td>Killing Lincoln</td>\n",
       "      <td>Billy Campbell|Regen Wilson|Jesse Johnson|Gera...</td>\n",
       "      <td>http://channel.nationalgeographic.com/channel/...</td>\n",
       "      <td>Adrian Moat</td>\n",
       "      <td>NaN</td>\n",
       "      <td>...</td>\n",
       "      <td>April 14, 1865. One gunshot. One assassin hell...</td>\n",
       "      <td>89</td>\n",
       "      <td>Documentary|Drama</td>\n",
       "      <td>National Geographic Channel</td>\n",
       "      <td>2/16/13</td>\n",
       "      <td>17</td>\n",
       "      <td>5.5</td>\n",
       "      <td>2013</td>\n",
       "      <td>1.872067e+06</td>\n",
       "      <td>0.000000e+00</td>\n",
       "    </tr>\n",
       "    <tr>\n",
       "      <th>10865</th>\n",
       "      <td>22293</td>\n",
       "      <td>tt0060666</td>\n",
       "      <td>0.035919</td>\n",
       "      <td>19000</td>\n",
       "      <td>0</td>\n",
       "      <td>Manos: The Hands of Fate</td>\n",
       "      <td>Harold P. Warren|Tom Neyman|John Reynolds|Dian...</td>\n",
       "      <td>NaN</td>\n",
       "      <td>Harold P. Warren</td>\n",
       "      <td>It's Shocking! It's Beyond Your Imagination!</td>\n",
       "      <td>...</td>\n",
       "      <td>A family gets lost on the road and stumbles up...</td>\n",
       "      <td>74</td>\n",
       "      <td>Horror</td>\n",
       "      <td>Norm-Iris</td>\n",
       "      <td>11/15/66</td>\n",
       "      <td>15</td>\n",
       "      <td>1.5</td>\n",
       "      <td>1966</td>\n",
       "      <td>1.276423e+05</td>\n",
       "      <td>0.000000e+00</td>\n",
       "    </tr>\n",
       "  </tbody>\n",
       "</table>\n",
       "<p>10866 rows × 21 columns</p>\n",
       "</div>"
      ],
      "text/plain": [
       "           id    imdb_id  popularity     budget     revenue  \\\n",
       "1386    19995  tt0499549    9.432768  237000000  2781505847   \n",
       "1329       11  tt0076759   12.037933   11000000   775398007   \n",
       "5231      597  tt0120338    4.355219  200000000  1845034188   \n",
       "10594    9552  tt0070047    2.010733    8000000   441306145   \n",
       "9806      578  tt0073195    2.563191    7000000   470654000   \n",
       "...       ...        ...         ...        ...         ...   \n",
       "5761   255718  tt3504064    0.322876          0           0   \n",
       "5760    57210  tt1833888    0.326279          0           0   \n",
       "5759   159092  tt2318527    0.326562    2500000           0   \n",
       "5758   170039  tt2299248    0.326734    2000000           0   \n",
       "10865   22293  tt0060666    0.035919      19000           0   \n",
       "\n",
       "                   original_title  \\\n",
       "1386                       Avatar   \n",
       "1329                    Star Wars   \n",
       "5231                      Titanic   \n",
       "10594                The Exorcist   \n",
       "9806                         Jaws   \n",
       "...                           ...   \n",
       "5761   Barbie: The Pearl Princess   \n",
       "5760                  Angels Sing   \n",
       "5759                    Hell Baby   \n",
       "5758              Killing Lincoln   \n",
       "10865    Manos: The Hands of Fate   \n",
       "\n",
       "                                                    cast  \\\n",
       "1386   Sam Worthington|Zoe Saldana|Sigourney Weaver|S...   \n",
       "1329   Mark Hamill|Harrison Ford|Carrie Fisher|Peter ...   \n",
       "5231   Kate Winslet|Leonardo DiCaprio|Frances Fisher|...   \n",
       "10594  Linda Blair|Max von Sydow|Ellen Burstyn|Jason ...   \n",
       "9806   Roy Scheider|Robert Shaw|Richard Dreyfuss|Lorr...   \n",
       "...                                                  ...   \n",
       "5761   Katie Crown|Brian Doe|Patrick Gilmore|Simon Hi...   \n",
       "5760   Chandler Canterbury|Willie Nelson|Harry Connic...   \n",
       "5759   Rob Corddry|Leslie Bibb|Keegan-Michael Key|Pau...   \n",
       "5758   Billy Campbell|Regen Wilson|Jesse Johnson|Gera...   \n",
       "10865  Harold P. Warren|Tom Neyman|John Reynolds|Dian...   \n",
       "\n",
       "                                                homepage  \\\n",
       "1386                         http://www.avatarmovie.com/   \n",
       "1329   http://www.starwars.com/films/star-wars-episod...   \n",
       "5231               http://www.titanicmovie.com/menu.html   \n",
       "10594                 http://theexorcist.warnerbros.com/   \n",
       "9806                              http://www.jaws25.com/   \n",
       "...                                                  ...   \n",
       "5761                                                 NaN   \n",
       "5760                 http://www.whenangelssingmovie.com/   \n",
       "5759                                                 NaN   \n",
       "5758   http://channel.nationalgeographic.com/channel/...   \n",
       "10865                                                NaN   \n",
       "\n",
       "                       director  \\\n",
       "1386              James Cameron   \n",
       "1329               George Lucas   \n",
       "5231              James Cameron   \n",
       "10594          William Friedkin   \n",
       "9806           Steven Spielberg   \n",
       "...                         ...   \n",
       "5761              Terry Klassen   \n",
       "5760              Tim McCanlies   \n",
       "5759   Ben Garant|Thomas Lennon   \n",
       "5758                Adrian Moat   \n",
       "10865          Harold P. Warren   \n",
       "\n",
       "                                                 tagline  ...  \\\n",
       "1386                         Enter the World of Pandora.  ...   \n",
       "1329        A long time ago in a galaxy far, far away...  ...   \n",
       "5231           Nothing on Earth could come between them.  ...   \n",
       "10594  Something almost beyond comprehension is happe...  ...   \n",
       "9806                              Don't go in the water.  ...   \n",
       "...                                                  ...  ...   \n",
       "5761                                                 NaN  ...   \n",
       "5760   Christmas comes but once a year, but the memor...  ...   \n",
       "5759                          The Devil got a baby mama.  ...   \n",
       "5758                                                 NaN  ...   \n",
       "10865       It's Shocking! It's Beyond Your Imagination!  ...   \n",
       "\n",
       "                                                overview runtime  \\\n",
       "1386   In the 22nd century, a paraplegic Marine is di...     162   \n",
       "1329   Princess Leia is captured and held hostage by ...     121   \n",
       "5231   84 years later, a 101-year-old woman named Ros...     194   \n",
       "10594  12-year-old Regan MacNeil begins to adapt an e...     122   \n",
       "9806   An insatiable great white shark terrorizes the...     124   \n",
       "...                                                  ...     ...   \n",
       "5761   Barbie plays Lumina, a mermaid girl with the p...      73   \n",
       "5760   As a child, Michael Walker wished every day co...      87   \n",
       "5759   After she and her husband move into a haunted ...      98   \n",
       "5758   April 14, 1865. One gunshot. One assassin hell...      89   \n",
       "10865  A family gets lost on the road and stumbles up...      74   \n",
       "\n",
       "                                         genres  \\\n",
       "1386   Action|Adventure|Fantasy|Science Fiction   \n",
       "1329           Adventure|Action|Science Fiction   \n",
       "5231                     Drama|Romance|Thriller   \n",
       "10594                     Drama|Horror|Thriller   \n",
       "9806                  Horror|Thriller|Adventure   \n",
       "...                                         ...   \n",
       "5761                           Family|Animation   \n",
       "5760                      TV Movie|Family|Drama   \n",
       "5759                              Comedy|Horror   \n",
       "5758                          Documentary|Drama   \n",
       "10865                                    Horror   \n",
       "\n",
       "                                    production_companies release_date  \\\n",
       "1386   Ingenious Film Partners|Twentieth Century Fox ...     12/10/09   \n",
       "1329    Lucasfilm|Twentieth Century Fox Film Corporation      3/20/77   \n",
       "5231   Paramount Pictures|Twentieth Century Fox Film ...     11/18/97   \n",
       "10594                      Warner Bros.|Hoya Productions     12/26/73   \n",
       "9806         Universal Pictures|Zanuck/Brown Productions      6/18/75   \n",
       "...                                                  ...          ...   \n",
       "5761                      Universal Pictures Corporation      2/19/13   \n",
       "5760                                    When Angels Sing     10/19/13   \n",
       "5759                                 Darko Entertainment       9/6/13   \n",
       "5758                         National Geographic Channel      2/16/13   \n",
       "10865                                          Norm-Iris     11/15/66   \n",
       "\n",
       "      vote_count  vote_average  release_year    budget_adj   revenue_adj  \n",
       "1386        8458           7.1          2009  2.408869e+08  2.827124e+09  \n",
       "1329        4428           7.9          1977  3.957559e+07  2.789712e+09  \n",
       "5231        4654           7.3          1997  2.716921e+08  2.506406e+09  \n",
       "10594       1113           7.2          1973  3.928928e+07  2.167325e+09  \n",
       "9806        1415           7.3          1975  2.836275e+07  1.907006e+09  \n",
       "...          ...           ...           ...           ...           ...  \n",
       "5761          23           6.2          2013  0.000000e+00  0.000000e+00  \n",
       "5760          12           5.4          2013  0.000000e+00  0.000000e+00  \n",
       "5759          60           4.4          2013  2.340083e+06  0.000000e+00  \n",
       "5758          17           5.5          2013  1.872067e+06  0.000000e+00  \n",
       "10865         15           1.5          1966  1.276423e+05  0.000000e+00  \n",
       "\n",
       "[10866 rows x 21 columns]"
      ]
     },
     "execution_count": 4,
     "metadata": {},
     "output_type": "execute_result"
    }
   ],
   "source": [
    "df3.sort_values('revenue_adj', ascending=False)"
   ]
  },
  {
   "cell_type": "code",
   "execution_count": 5,
   "id": "b063bf87",
   "metadata": {},
   "outputs": [
    {
     "name": "stdout",
     "output_type": "stream",
     "text": [
      "       id    imdb_id  popularity     budget     revenue      original_title  \\\n",
      "0  135397  tt0369610   32.985763  150000000  1513528810      Jurassic World   \n",
      "1   76341  tt1392190   28.419936  150000000   378436354  Mad Max: Fury Road   \n",
      "2  262500  tt2908446   13.112507  110000000   295238201           Insurgent   \n",
      "\n",
      "                                                cast  \\\n",
      "0  Chris Pratt|Bryce Dallas Howard|Irrfan Khan|Vi...   \n",
      "1  Tom Hardy|Charlize Theron|Hugh Keays-Byrne|Nic...   \n",
      "2  Shailene Woodley|Theo James|Kate Winslet|Ansel...   \n",
      "\n",
      "                                         homepage          director  \\\n",
      "0                   http://www.jurassicworld.com/   Colin Trevorrow   \n",
      "1                     http://www.madmaxmovie.com/     George Miller   \n",
      "2  http://www.thedivergentseries.movie/#insurgent  Robert Schwentke   \n",
      "\n",
      "                      tagline  \\\n",
      "0           The park is open.   \n",
      "1          What a Lovely Day.   \n",
      "2  One Choice Can Destroy You   \n",
      "\n",
      "                                            keywords  \\\n",
      "0  monster|dna|tyrannosaurus rex|velociraptor|island   \n",
      "1   future|chase|post-apocalyptic|dystopia|australia   \n",
      "2  based on novel|revolution|dystopia|sequel|dyst...   \n",
      "\n",
      "                                            overview  runtime  \\\n",
      "0  Twenty-two years after the events of Jurassic ...      124   \n",
      "1  An apocalyptic story set in the furthest reach...      120   \n",
      "2  Beatrice Prior must confront her inner demons ...      119   \n",
      "\n",
      "                                      genres  \\\n",
      "0  Action|Adventure|Science Fiction|Thriller   \n",
      "1  Action|Adventure|Science Fiction|Thriller   \n",
      "2         Adventure|Science Fiction|Thriller   \n",
      "\n",
      "                                production_companies release_date  vote_count  \\\n",
      "0  Universal Studios|Amblin Entertainment|Legenda...       6/9/15        5562   \n",
      "1  Village Roadshow Pictures|Kennedy Miller Produ...      5/13/15        6185   \n",
      "2  Summit Entertainment|Mandeville Films|Red Wago...      3/18/15        2480   \n",
      "\n",
      "   vote_average  release_year    budget_adj   revenue_adj  \n",
      "0           6.5          2015  1.379999e+08  1.392446e+09  \n",
      "1           7.1          2015  1.379999e+08  3.481613e+08  \n",
      "2           6.3          2015  1.012000e+08  2.716190e+08  \n",
      "The tmdb dataset has 10866 rows and 21 columns\n"
     ]
    }
   ],
   "source": [
    "pd.pandas.set_option('display.max_columns', None)\n",
    "print(df3.head(3))\n",
    "print(\"The tmdb dataset has {} rows and {} columns\".format(df3.shape[0], df3.shape[1]))"
   ]
  },
  {
   "cell_type": "markdown",
   "id": "ac4dfc67",
   "metadata": {},
   "source": [
    "This is another way to look at the data - probably unnecessary, but again showing 10,866 rows and 21 columns"
   ]
  },
  {
   "cell_type": "code",
   "execution_count": 6,
   "id": "b7d6a064",
   "metadata": {},
   "outputs": [],
   "source": [
    "#drop duplicates"
   ]
  },
  {
   "cell_type": "code",
   "execution_count": 7,
   "id": "21f9a205",
   "metadata": {},
   "outputs": [
    {
     "data": {
      "text/plain": [
       "popularity                 0\n",
       "budget                     0\n",
       "revenue                    0\n",
       "original_title             0\n",
       "cast                      76\n",
       "director                  44\n",
       "runtime                    0\n",
       "genres                    23\n",
       "production_companies    1030\n",
       "release_date               0\n",
       "vote_count                 0\n",
       "vote_average               0\n",
       "release_year               0\n",
       "budget_adj                 0\n",
       "revenue_adj                0\n",
       "dtype: int64"
      ]
     },
     "execution_count": 7,
     "metadata": {},
     "output_type": "execute_result"
    }
   ],
   "source": [
    "to_drop =  ['id', 'imdb_id','homepage','tagline','keywords','overview']\n",
    "df3.drop(to_drop, inplace = True, axis = 1)\n",
    "df3.isnull().sum()"
   ]
  },
  {
   "cell_type": "code",
   "execution_count": 8,
   "id": "9a54df76",
   "metadata": {},
   "outputs": [
    {
     "data": {
      "text/plain": [
       "popularity                 0\n",
       "budget                     0\n",
       "revenue                    0\n",
       "original_title             0\n",
       "cast                      76\n",
       "director                  44\n",
       "runtime                    0\n",
       "genres                    23\n",
       "production_companies    1030\n",
       "release_date               0\n",
       "vote_count                 0\n",
       "vote_average               0\n",
       "release_year               0\n",
       "budget_adj                 0\n",
       "revenue_adj                0\n",
       "dtype: int64"
      ]
     },
     "execution_count": 8,
     "metadata": {},
     "output_type": "execute_result"
    }
   ],
   "source": [
    "# === 2.Change the data type ===\n",
    "df3.release_date = pd.to_datetime(df3.release_date)\n",
    "# === 3. Deal with the null values  ===\n",
    "df3.isnull().sum()"
   ]
  },
  {
   "cell_type": "code",
   "execution_count": 9,
   "id": "1d2b85fe",
   "metadata": {},
   "outputs": [],
   "source": [
    "df3.fillna(\"unknown\", inplace = True)"
   ]
  },
  {
   "cell_type": "code",
   "execution_count": 10,
   "id": "7df4cd02",
   "metadata": {},
   "outputs": [],
   "source": [
    "# find the rows with 0 buget or 0 revenue or 0 runtime\n",
    "zero = (df3.budget == 0) | (df3.revenue == 0)|(df3.runtime == 0)\n",
    "zero_rows = df3.loc[zero]\n",
    "df3 = df3.loc[~zero]"
   ]
  },
  {
   "cell_type": "code",
   "execution_count": 11,
   "id": "d43fd630",
   "metadata": {},
   "outputs": [
    {
     "data": {
      "text/plain": [
       "popularity              0\n",
       "budget                  0\n",
       "revenue                 0\n",
       "original_title          0\n",
       "cast                    0\n",
       "director                0\n",
       "runtime                 0\n",
       "genres                  0\n",
       "production_companies    0\n",
       "release_date            0\n",
       "vote_count              0\n",
       "vote_average            0\n",
       "release_year            0\n",
       "budget_adj              0\n",
       "revenue_adj             0\n",
       "dtype: int64"
      ]
     },
     "execution_count": 11,
     "metadata": {},
     "output_type": "execute_result"
    }
   ],
   "source": [
    "df3.isnull().sum()"
   ]
  },
  {
   "cell_type": "code",
   "execution_count": 12,
   "id": "0af17c63",
   "metadata": {},
   "outputs": [],
   "source": [
    "import seaborn as sns"
   ]
  },
  {
   "cell_type": "markdown",
   "id": "39ece890",
   "metadata": {},
   "source": [
    "Taking a look at how the vote average and popularity are correlated.  There is a small correlation here and we can probably confirm that a large number of votes doesn't necessarily mean a highly popular movie."
   ]
  },
  {
   "cell_type": "code",
   "execution_count": 13,
   "id": "68136419",
   "metadata": {},
   "outputs": [
    {
     "data": {
      "text/plain": [
       "<seaborn.axisgrid.JointGrid at 0x7f9644fda9a0>"
      ]
     },
     "execution_count": 13,
     "metadata": {},
     "output_type": "execute_result"
    },
    {
     "data": {
      "image/png": "[encoded data removed]",
      "text/plain": [
       "<Figure size 432x432 with 3 Axes>"
      ]
     },
     "metadata": {
      "needs_background": "light"
     },
     "output_type": "display_data"
    }
   ],
   "source": [
    "sns.jointplot(x='vote_average', y='popularity', data=df3)"
   ]
  },
  {
   "cell_type": "code",
   "execution_count": 99,
   "id": "20ed22e1",
   "metadata": {},
   "outputs": [
    {
     "data": {
      "text/plain": [
       "<seaborn.axisgrid.JointGrid at 0x7f9628ab4ca0>"
      ]
     },
     "execution_count": 99,
     "metadata": {},
     "output_type": "execute_result"
    },
    {
     "data": {
      "image/png": "[encoded data removed]",
      "text/plain": [
       "<Figure size 432x432 with 3 Axes>"
      ]
     },
     "metadata": {},
     "output_type": "display_data"
    }
   ],
   "source": [
    "sns.jointplot(x='budget',y='revenue',data=df3[df3['return'].notnull()])"
   ]
  },
  {
   "cell_type": "markdown",
   "id": "2c531b4d",
   "metadata": {},
   "source": [
    "Looking at total budget compared to total revenue, we seem to have some good correlation here, but higher budget doesn't necessarily mean higher revenue.  For the most part it does, but of course we have some outliers"
   ]
  },
  {
   "cell_type": "code",
   "execution_count": 14,
   "id": "133b72d8",
   "metadata": {},
   "outputs": [
    {
     "data": {
      "text/html": [
       "<div>\n",
       "<style scoped>\n",
       "    .dataframe tbody tr th:only-of-type {\n",
       "        vertical-align: middle;\n",
       "    }\n",
       "\n",
       "    .dataframe tbody tr th {\n",
       "        vertical-align: top;\n",
       "    }\n",
       "\n",
       "    .dataframe thead th {\n",
       "        text-align: right;\n",
       "    }\n",
       "</style>\n",
       "<table border=\"1\" class=\"dataframe\">\n",
       "  <thead>\n",
       "    <tr style=\"text-align: right;\">\n",
       "      <th></th>\n",
       "      <th>popularity</th>\n",
       "      <th>budget</th>\n",
       "      <th>revenue</th>\n",
       "      <th>original_title</th>\n",
       "      <th>cast</th>\n",
       "      <th>director</th>\n",
       "      <th>runtime</th>\n",
       "      <th>genres</th>\n",
       "      <th>production_companies</th>\n",
       "      <th>release_date</th>\n",
       "      <th>vote_count</th>\n",
       "      <th>vote_average</th>\n",
       "      <th>release_year</th>\n",
       "      <th>budget_adj</th>\n",
       "      <th>revenue_adj</th>\n",
       "    </tr>\n",
       "  </thead>\n",
       "  <tbody>\n",
       "    <tr>\n",
       "      <th>0</th>\n",
       "      <td>32.985763</td>\n",
       "      <td>150000000</td>\n",
       "      <td>1513528810</td>\n",
       "      <td>Jurassic World</td>\n",
       "      <td>Chris Pratt|Bryce Dallas Howard|Irrfan Khan|Vi...</td>\n",
       "      <td>Colin Trevorrow</td>\n",
       "      <td>124</td>\n",
       "      <td>Action|Adventure|Science Fiction|Thriller</td>\n",
       "      <td>Universal Studios|Amblin Entertainment|Legenda...</td>\n",
       "      <td>2015-06-09</td>\n",
       "      <td>5562</td>\n",
       "      <td>6.5</td>\n",
       "      <td>2015</td>\n",
       "      <td>1.379999e+08</td>\n",
       "      <td>1.392446e+09</td>\n",
       "    </tr>\n",
       "    <tr>\n",
       "      <th>1</th>\n",
       "      <td>28.419936</td>\n",
       "      <td>150000000</td>\n",
       "      <td>378436354</td>\n",
       "      <td>Mad Max: Fury Road</td>\n",
       "      <td>Tom Hardy|Charlize Theron|Hugh Keays-Byrne|Nic...</td>\n",
       "      <td>George Miller</td>\n",
       "      <td>120</td>\n",
       "      <td>Action|Adventure|Science Fiction|Thriller</td>\n",
       "      <td>Village Roadshow Pictures|Kennedy Miller Produ...</td>\n",
       "      <td>2015-05-13</td>\n",
       "      <td>6185</td>\n",
       "      <td>7.1</td>\n",
       "      <td>2015</td>\n",
       "      <td>1.379999e+08</td>\n",
       "      <td>3.481613e+08</td>\n",
       "    </tr>\n",
       "  </tbody>\n",
       "</table>\n",
       "</div>"
      ],
      "text/plain": [
       "   popularity     budget     revenue      original_title  \\\n",
       "0   32.985763  150000000  1513528810      Jurassic World   \n",
       "1   28.419936  150000000   378436354  Mad Max: Fury Road   \n",
       "\n",
       "                                                cast         director  \\\n",
       "0  Chris Pratt|Bryce Dallas Howard|Irrfan Khan|Vi...  Colin Trevorrow   \n",
       "1  Tom Hardy|Charlize Theron|Hugh Keays-Byrne|Nic...    George Miller   \n",
       "\n",
       "   runtime                                     genres  \\\n",
       "0      124  Action|Adventure|Science Fiction|Thriller   \n",
       "1      120  Action|Adventure|Science Fiction|Thriller   \n",
       "\n",
       "                                production_companies release_date  vote_count  \\\n",
       "0  Universal Studios|Amblin Entertainment|Legenda...   2015-06-09        5562   \n",
       "1  Village Roadshow Pictures|Kennedy Miller Produ...   2015-05-13        6185   \n",
       "\n",
       "   vote_average  release_year    budget_adj   revenue_adj  \n",
       "0           6.5          2015  1.379999e+08  1.392446e+09  \n",
       "1           7.1          2015  1.379999e+08  3.481613e+08  "
      ]
     },
     "execution_count": 14,
     "metadata": {},
     "output_type": "execute_result"
    }
   ],
   "source": [
    "df3.head(2)"
   ]
  },
  {
   "cell_type": "markdown",
   "id": "9cfac92a",
   "metadata": {},
   "source": [
    "Taking a quick glance at the dataframe again - I will work on trying to pull out the production companies and summing their total revenue, and number of movies produced."
   ]
  },
  {
   "cell_type": "code",
   "execution_count": 15,
   "id": "8e1c65c4",
   "metadata": {},
   "outputs": [],
   "source": [
    "s = df3.apply(lambda x: pd.Series(x['production_companies']),axis=1).stack().reset_index(level=1, drop=True)\n",
    "s.name = 'companies'"
   ]
  },
  {
   "cell_type": "code",
   "execution_count": 16,
   "id": "5842f90f",
   "metadata": {},
   "outputs": [],
   "source": [
    "com_df = df3.drop('production_companies', axis=1).join(s)"
   ]
  },
  {
   "cell_type": "code",
   "execution_count": 17,
   "id": "291ab744",
   "metadata": {},
   "outputs": [],
   "source": [
    "com_sum = pd.DataFrame(com_df.groupby('companies')['revenue'].sum().sort_values(ascending=False))\n",
    "com_sum.columns = ['Total']\n",
    "com_mean = pd.DataFrame(com_df.groupby('companies')['revenue'].mean().sort_values(ascending=False))\n",
    "com_mean.columns = ['Average']\n",
    "com_count = pd.DataFrame(com_df.groupby('companies')['revenue'].count().sort_values(ascending=False))\n",
    "com_count.columns = ['Number']\n",
    "\n",
    "com_pivot = pd.concat((com_sum, com_mean, com_count), axis=1)"
   ]
  },
  {
   "cell_type": "code",
   "execution_count": 19,
   "id": "59fedf93",
   "metadata": {},
   "outputs": [
    {
     "data": {
      "text/html": [
       "<div>\n",
       "<style scoped>\n",
       "    .dataframe tbody tr th:only-of-type {\n",
       "        vertical-align: middle;\n",
       "    }\n",
       "\n",
       "    .dataframe tbody tr th {\n",
       "        vertical-align: top;\n",
       "    }\n",
       "\n",
       "    .dataframe thead th {\n",
       "        text-align: right;\n",
       "    }\n",
       "</style>\n",
       "<table border=\"1\" class=\"dataframe\">\n",
       "  <thead>\n",
       "    <tr style=\"text-align: right;\">\n",
       "      <th></th>\n",
       "      <th>Total</th>\n",
       "      <th>Average</th>\n",
       "      <th>Number</th>\n",
       "    </tr>\n",
       "    <tr>\n",
       "      <th>companies</th>\n",
       "      <th></th>\n",
       "      <th></th>\n",
       "      <th></th>\n",
       "    </tr>\n",
       "  </thead>\n",
       "  <tbody>\n",
       "    <tr>\n",
       "      <th>Walt Disney Pictures|Pixar Animation Studios</th>\n",
       "      <td>7648558520</td>\n",
       "      <td>5.883507e+08</td>\n",
       "      <td>13</td>\n",
       "    </tr>\n",
       "    <tr>\n",
       "      <th>Paramount Pictures</th>\n",
       "      <td>7040937553</td>\n",
       "      <td>9.144075e+07</td>\n",
       "      <td>77</td>\n",
       "    </tr>\n",
       "    <tr>\n",
       "      <th>DreamWorks Animation</th>\n",
       "      <td>6676741096</td>\n",
       "      <td>4.451161e+08</td>\n",
       "      <td>15</td>\n",
       "    </tr>\n",
       "    <tr>\n",
       "      <th>Marvel Studios</th>\n",
       "      <td>6027808966</td>\n",
       "      <td>7.534761e+08</td>\n",
       "      <td>8</td>\n",
       "    </tr>\n",
       "    <tr>\n",
       "      <th>Columbia Pictures</th>\n",
       "      <td>4621239748</td>\n",
       "      <td>1.184933e+08</td>\n",
       "      <td>39</td>\n",
       "    </tr>\n",
       "    <tr>\n",
       "      <th>Blue Sky Studios|Twentieth Century Fox Animation</th>\n",
       "      <td>3938820202</td>\n",
       "      <td>5.626886e+08</td>\n",
       "      <td>7</td>\n",
       "    </tr>\n",
       "    <tr>\n",
       "      <th>Walt Disney Pictures|Walt Disney Animation Studios</th>\n",
       "      <td>3498726837</td>\n",
       "      <td>4.373409e+08</td>\n",
       "      <td>8</td>\n",
       "    </tr>\n",
       "    <tr>\n",
       "      <th>Universal Pictures|Illumination Entertainment</th>\n",
       "      <td>3203800871</td>\n",
       "      <td>6.407602e+08</td>\n",
       "      <td>5</td>\n",
       "    </tr>\n",
       "    <tr>\n",
       "      <th>Universal Pictures</th>\n",
       "      <td>3146095421</td>\n",
       "      <td>5.519466e+07</td>\n",
       "      <td>57</td>\n",
       "    </tr>\n",
       "    <tr>\n",
       "      <th>Eon Productions</th>\n",
       "      <td>3126131033</td>\n",
       "      <td>3.126131e+08</td>\n",
       "      <td>10</td>\n",
       "    </tr>\n",
       "  </tbody>\n",
       "</table>\n",
       "</div>"
      ],
      "text/plain": [
       "                                                         Total       Average  \\\n",
       "companies                                                                      \n",
       "Walt Disney Pictures|Pixar Animation Studios        7648558520  5.883507e+08   \n",
       "Paramount Pictures                                  7040937553  9.144075e+07   \n",
       "DreamWorks Animation                                6676741096  4.451161e+08   \n",
       "Marvel Studios                                      6027808966  7.534761e+08   \n",
       "Columbia Pictures                                   4621239748  1.184933e+08   \n",
       "Blue Sky Studios|Twentieth Century Fox Animation    3938820202  5.626886e+08   \n",
       "Walt Disney Pictures|Walt Disney Animation Studios  3498726837  4.373409e+08   \n",
       "Universal Pictures|Illumination Entertainment       3203800871  6.407602e+08   \n",
       "Universal Pictures                                  3146095421  5.519466e+07   \n",
       "Eon Productions                                     3126131033  3.126131e+08   \n",
       "\n",
       "                                                    Number  \n",
       "companies                                                   \n",
       "Walt Disney Pictures|Pixar Animation Studios            13  \n",
       "Paramount Pictures                                      77  \n",
       "DreamWorks Animation                                    15  \n",
       "Marvel Studios                                           8  \n",
       "Columbia Pictures                                       39  \n",
       "Blue Sky Studios|Twentieth Century Fox Animation         7  \n",
       "Walt Disney Pictures|Walt Disney Animation Studios       8  \n",
       "Universal Pictures|Illumination Entertainment            5  \n",
       "Universal Pictures                                      57  \n",
       "Eon Productions                                         10  "
      ]
     },
     "execution_count": 19,
     "metadata": {},
     "output_type": "execute_result"
    }
   ],
   "source": [
    "com_pivot.head(10)"
   ]
  },
  {
   "cell_type": "code",
   "execution_count": 20,
   "id": "a1c78cfc",
   "metadata": {},
   "outputs": [
    {
     "data": {
      "text/html": [
       "<div>\n",
       "<style scoped>\n",
       "    .dataframe tbody tr th:only-of-type {\n",
       "        vertical-align: middle;\n",
       "    }\n",
       "\n",
       "    .dataframe tbody tr th {\n",
       "        vertical-align: top;\n",
       "    }\n",
       "\n",
       "    .dataframe thead th {\n",
       "        text-align: right;\n",
       "    }\n",
       "</style>\n",
       "<table border=\"1\" class=\"dataframe\">\n",
       "  <thead>\n",
       "    <tr style=\"text-align: right;\">\n",
       "      <th></th>\n",
       "      <th>Total</th>\n",
       "      <th>Average</th>\n",
       "      <th>Number</th>\n",
       "    </tr>\n",
       "    <tr>\n",
       "      <th>companies</th>\n",
       "      <th></th>\n",
       "      <th></th>\n",
       "      <th></th>\n",
       "    </tr>\n",
       "  </thead>\n",
       "  <tbody>\n",
       "    <tr>\n",
       "      <th>Walt Disney Pictures|Pixar Animation Studios</th>\n",
       "      <td>7648558520</td>\n",
       "      <td>5.883507e+08</td>\n",
       "      <td>13</td>\n",
       "    </tr>\n",
       "    <tr>\n",
       "      <th>Paramount Pictures</th>\n",
       "      <td>7040937553</td>\n",
       "      <td>9.144075e+07</td>\n",
       "      <td>77</td>\n",
       "    </tr>\n",
       "    <tr>\n",
       "      <th>DreamWorks Animation</th>\n",
       "      <td>6676741096</td>\n",
       "      <td>4.451161e+08</td>\n",
       "      <td>15</td>\n",
       "    </tr>\n",
       "    <tr>\n",
       "      <th>Marvel Studios</th>\n",
       "      <td>6027808966</td>\n",
       "      <td>7.534761e+08</td>\n",
       "      <td>8</td>\n",
       "    </tr>\n",
       "    <tr>\n",
       "      <th>Columbia Pictures</th>\n",
       "      <td>4621239748</td>\n",
       "      <td>1.184933e+08</td>\n",
       "      <td>39</td>\n",
       "    </tr>\n",
       "    <tr>\n",
       "      <th>Blue Sky Studios|Twentieth Century Fox Animation</th>\n",
       "      <td>3938820202</td>\n",
       "      <td>5.626886e+08</td>\n",
       "      <td>7</td>\n",
       "    </tr>\n",
       "    <tr>\n",
       "      <th>Walt Disney Pictures|Walt Disney Animation Studios</th>\n",
       "      <td>3498726837</td>\n",
       "      <td>4.373409e+08</td>\n",
       "      <td>8</td>\n",
       "    </tr>\n",
       "    <tr>\n",
       "      <th>Universal Pictures|Illumination Entertainment</th>\n",
       "      <td>3203800871</td>\n",
       "      <td>6.407602e+08</td>\n",
       "      <td>5</td>\n",
       "    </tr>\n",
       "    <tr>\n",
       "      <th>Universal Pictures</th>\n",
       "      <td>3146095421</td>\n",
       "      <td>5.519466e+07</td>\n",
       "      <td>57</td>\n",
       "    </tr>\n",
       "    <tr>\n",
       "      <th>Eon Productions</th>\n",
       "      <td>3126131033</td>\n",
       "      <td>3.126131e+08</td>\n",
       "      <td>10</td>\n",
       "    </tr>\n",
       "  </tbody>\n",
       "</table>\n",
       "</div>"
      ],
      "text/plain": [
       "                                                         Total       Average  \\\n",
       "companies                                                                      \n",
       "Walt Disney Pictures|Pixar Animation Studios        7648558520  5.883507e+08   \n",
       "Paramount Pictures                                  7040937553  9.144075e+07   \n",
       "DreamWorks Animation                                6676741096  4.451161e+08   \n",
       "Marvel Studios                                      6027808966  7.534761e+08   \n",
       "Columbia Pictures                                   4621239748  1.184933e+08   \n",
       "Blue Sky Studios|Twentieth Century Fox Animation    3938820202  5.626886e+08   \n",
       "Walt Disney Pictures|Walt Disney Animation Studios  3498726837  4.373409e+08   \n",
       "Universal Pictures|Illumination Entertainment       3203800871  6.407602e+08   \n",
       "Universal Pictures                                  3146095421  5.519466e+07   \n",
       "Eon Productions                                     3126131033  3.126131e+08   \n",
       "\n",
       "                                                    Number  \n",
       "companies                                                   \n",
       "Walt Disney Pictures|Pixar Animation Studios            13  \n",
       "Paramount Pictures                                      77  \n",
       "DreamWorks Animation                                    15  \n",
       "Marvel Studios                                           8  \n",
       "Columbia Pictures                                       39  \n",
       "Blue Sky Studios|Twentieth Century Fox Animation         7  \n",
       "Walt Disney Pictures|Walt Disney Animation Studios       8  \n",
       "Universal Pictures|Illumination Entertainment            5  \n",
       "Universal Pictures                                      57  \n",
       "Eon Productions                                         10  "
      ]
     },
     "execution_count": 20,
     "metadata": {},
     "output_type": "execute_result"
    }
   ],
   "source": [
    "com_pivot.sort_values('Total', ascending=False).head(10)"
   ]
  },
  {
   "cell_type": "markdown",
   "id": "ea560302",
   "metadata": {},
   "source": [
    "Sort the companies by the highest total, descending value.  Disney is at the top"
   ]
  },
  {
   "cell_type": "code",
   "execution_count": 21,
   "id": "3a686ca2",
   "metadata": {},
   "outputs": [
    {
     "data": {
      "text/html": [
       "<div>\n",
       "<style scoped>\n",
       "    .dataframe tbody tr th:only-of-type {\n",
       "        vertical-align: middle;\n",
       "    }\n",
       "\n",
       "    .dataframe tbody tr th {\n",
       "        vertical-align: top;\n",
       "    }\n",
       "\n",
       "    .dataframe thead th {\n",
       "        text-align: right;\n",
       "    }\n",
       "</style>\n",
       "<table border=\"1\" class=\"dataframe\">\n",
       "  <thead>\n",
       "    <tr style=\"text-align: right;\">\n",
       "      <th></th>\n",
       "      <th>Total</th>\n",
       "      <th>Average</th>\n",
       "      <th>Number</th>\n",
       "    </tr>\n",
       "    <tr>\n",
       "      <th>companies</th>\n",
       "      <th></th>\n",
       "      <th></th>\n",
       "      <th></th>\n",
       "    </tr>\n",
       "  </thead>\n",
       "  <tbody>\n",
       "    <tr>\n",
       "      <th>DreamWorks Animation</th>\n",
       "      <td>6676741096</td>\n",
       "      <td>4.451161e+08</td>\n",
       "      <td>15</td>\n",
       "    </tr>\n",
       "    <tr>\n",
       "      <th>Walt Disney Pictures</th>\n",
       "      <td>2687296210</td>\n",
       "      <td>1.221498e+08</td>\n",
       "      <td>22</td>\n",
       "    </tr>\n",
       "    <tr>\n",
       "      <th>Columbia Pictures</th>\n",
       "      <td>4621239748</td>\n",
       "      <td>1.184933e+08</td>\n",
       "      <td>39</td>\n",
       "    </tr>\n",
       "    <tr>\n",
       "      <th>Twentieth Century Fox Film Corporation</th>\n",
       "      <td>2218500730</td>\n",
       "      <td>9.645655e+07</td>\n",
       "      <td>23</td>\n",
       "    </tr>\n",
       "    <tr>\n",
       "      <th>Paramount Pictures</th>\n",
       "      <td>7040937553</td>\n",
       "      <td>9.144075e+07</td>\n",
       "      <td>77</td>\n",
       "    </tr>\n",
       "    <tr>\n",
       "      <th>20th Century Fox</th>\n",
       "      <td>1940262861</td>\n",
       "      <td>8.819377e+07</td>\n",
       "      <td>22</td>\n",
       "    </tr>\n",
       "    <tr>\n",
       "      <th>Touchstone Pictures</th>\n",
       "      <td>1836075091</td>\n",
       "      <td>7.650313e+07</td>\n",
       "      <td>24</td>\n",
       "    </tr>\n",
       "    <tr>\n",
       "      <th>United Artists</th>\n",
       "      <td>1112555319</td>\n",
       "      <td>7.417035e+07</td>\n",
       "      <td>15</td>\n",
       "    </tr>\n",
       "    <tr>\n",
       "      <th>TriStar Pictures</th>\n",
       "      <td>1017851042</td>\n",
       "      <td>6.785674e+07</td>\n",
       "      <td>15</td>\n",
       "    </tr>\n",
       "    <tr>\n",
       "      <th>Dimension Films</th>\n",
       "      <td>1076959975</td>\n",
       "      <td>6.731000e+07</td>\n",
       "      <td>16</td>\n",
       "    </tr>\n",
       "  </tbody>\n",
       "</table>\n",
       "</div>"
      ],
      "text/plain": [
       "                                             Total       Average  Number\n",
       "companies                                                               \n",
       "DreamWorks Animation                    6676741096  4.451161e+08      15\n",
       "Walt Disney Pictures                    2687296210  1.221498e+08      22\n",
       "Columbia Pictures                       4621239748  1.184933e+08      39\n",
       "Twentieth Century Fox Film Corporation  2218500730  9.645655e+07      23\n",
       "Paramount Pictures                      7040937553  9.144075e+07      77\n",
       "20th Century Fox                        1940262861  8.819377e+07      22\n",
       "Touchstone Pictures                     1836075091  7.650313e+07      24\n",
       "United Artists                          1112555319  7.417035e+07      15\n",
       "TriStar Pictures                        1017851042  6.785674e+07      15\n",
       "Dimension Films                         1076959975  6.731000e+07      16"
      ]
     },
     "execution_count": 21,
     "metadata": {},
     "output_type": "execute_result"
    }
   ],
   "source": [
    "com_pivot[com_pivot['Number'] >= 15].sort_values('Average', ascending=False).head(10)"
   ]
  },
  {
   "cell_type": "markdown",
   "id": "99179c6f",
   "metadata": {},
   "source": [
    "sorting the top 10 production companies by average revenue, where the number of films is greater than or equal to 15.  This provides us with Dreamworks on top, and unsurprisingly Disney there in the top 2 as well."
   ]
  },
  {
   "cell_type": "code",
   "execution_count": 22,
   "id": "abd3bf62",
   "metadata": {},
   "outputs": [
    {
     "data": {
      "text/html": [
       "<div>\n",
       "<style scoped>\n",
       "    .dataframe tbody tr th:only-of-type {\n",
       "        vertical-align: middle;\n",
       "    }\n",
       "\n",
       "    .dataframe tbody tr th {\n",
       "        vertical-align: top;\n",
       "    }\n",
       "\n",
       "    .dataframe thead th {\n",
       "        text-align: right;\n",
       "    }\n",
       "</style>\n",
       "<table border=\"1\" class=\"dataframe\">\n",
       "  <thead>\n",
       "    <tr style=\"text-align: right;\">\n",
       "      <th></th>\n",
       "      <th>popularity</th>\n",
       "      <th>budget</th>\n",
       "      <th>revenue</th>\n",
       "      <th>original_title</th>\n",
       "      <th>cast</th>\n",
       "      <th>director</th>\n",
       "      <th>runtime</th>\n",
       "      <th>genres</th>\n",
       "      <th>production_companies</th>\n",
       "      <th>release_date</th>\n",
       "      <th>vote_count</th>\n",
       "      <th>vote_average</th>\n",
       "      <th>release_year</th>\n",
       "      <th>budget_adj</th>\n",
       "      <th>revenue_adj</th>\n",
       "    </tr>\n",
       "  </thead>\n",
       "  <tbody>\n",
       "    <tr>\n",
       "      <th>0</th>\n",
       "      <td>32.985763</td>\n",
       "      <td>150000000</td>\n",
       "      <td>1513528810</td>\n",
       "      <td>Jurassic World</td>\n",
       "      <td>Chris Pratt|Bryce Dallas Howard|Irrfan Khan|Vi...</td>\n",
       "      <td>Colin Trevorrow</td>\n",
       "      <td>124</td>\n",
       "      <td>Action|Adventure|Science Fiction|Thriller</td>\n",
       "      <td>Universal Studios|Amblin Entertainment|Legenda...</td>\n",
       "      <td>2015-06-09</td>\n",
       "      <td>5562</td>\n",
       "      <td>6.5</td>\n",
       "      <td>2015</td>\n",
       "      <td>1.379999e+08</td>\n",
       "      <td>1.392446e+09</td>\n",
       "    </tr>\n",
       "    <tr>\n",
       "      <th>1</th>\n",
       "      <td>28.419936</td>\n",
       "      <td>150000000</td>\n",
       "      <td>378436354</td>\n",
       "      <td>Mad Max: Fury Road</td>\n",
       "      <td>Tom Hardy|Charlize Theron|Hugh Keays-Byrne|Nic...</td>\n",
       "      <td>George Miller</td>\n",
       "      <td>120</td>\n",
       "      <td>Action|Adventure|Science Fiction|Thriller</td>\n",
       "      <td>Village Roadshow Pictures|Kennedy Miller Produ...</td>\n",
       "      <td>2015-05-13</td>\n",
       "      <td>6185</td>\n",
       "      <td>7.1</td>\n",
       "      <td>2015</td>\n",
       "      <td>1.379999e+08</td>\n",
       "      <td>3.481613e+08</td>\n",
       "    </tr>\n",
       "  </tbody>\n",
       "</table>\n",
       "</div>"
      ],
      "text/plain": [
       "   popularity     budget     revenue      original_title  \\\n",
       "0   32.985763  150000000  1513528810      Jurassic World   \n",
       "1   28.419936  150000000   378436354  Mad Max: Fury Road   \n",
       "\n",
       "                                                cast         director  \\\n",
       "0  Chris Pratt|Bryce Dallas Howard|Irrfan Khan|Vi...  Colin Trevorrow   \n",
       "1  Tom Hardy|Charlize Theron|Hugh Keays-Byrne|Nic...    George Miller   \n",
       "\n",
       "   runtime                                     genres  \\\n",
       "0      124  Action|Adventure|Science Fiction|Thriller   \n",
       "1      120  Action|Adventure|Science Fiction|Thriller   \n",
       "\n",
       "                                production_companies release_date  vote_count  \\\n",
       "0  Universal Studios|Amblin Entertainment|Legenda...   2015-06-09        5562   \n",
       "1  Village Roadshow Pictures|Kennedy Miller Produ...   2015-05-13        6185   \n",
       "\n",
       "   vote_average  release_year    budget_adj   revenue_adj  \n",
       "0           6.5          2015  1.379999e+08  1.392446e+09  \n",
       "1           7.1          2015  1.379999e+08  3.481613e+08  "
      ]
     },
     "execution_count": 22,
     "metadata": {},
     "output_type": "execute_result"
    }
   ],
   "source": [
    "df3.head(2)"
   ]
  },
  {
   "cell_type": "code",
   "execution_count": 23,
   "id": "383facc1",
   "metadata": {},
   "outputs": [],
   "source": [
    "def clean_numeric(x):\n",
    "    try:\n",
    "        return float(x)\n",
    "    except:\n",
    "        return np.nan"
   ]
  },
  {
   "cell_type": "code",
   "execution_count": 24,
   "id": "d3b34e2b",
   "metadata": {},
   "outputs": [],
   "source": [
    "df3['popularity'] = df3['popularity'].apply(clean_numeric).astype('float')\n",
    "df3['vote_count'] = df3['vote_count'].apply(clean_numeric).astype('float')\n",
    "df3['vote_average'] = df3['vote_average'].apply(clean_numeric).astype('float')"
   ]
  },
  {
   "cell_type": "code",
   "execution_count": 25,
   "id": "51963a7a",
   "metadata": {},
   "outputs": [
    {
     "data": {
      "text/plain": [
       "count    3855.000000\n",
       "mean        1.191400\n",
       "std         1.475002\n",
       "min         0.001117\n",
       "25%         0.462448\n",
       "50%         0.797298\n",
       "75%         1.368245\n",
       "max        32.985763\n",
       "Name: popularity, dtype: float64"
      ]
     },
     "execution_count": 25,
     "metadata": {},
     "output_type": "execute_result"
    }
   ],
   "source": [
    "df3['popularity'].describe()"
   ]
  },
  {
   "cell_type": "code",
   "execution_count": 26,
   "id": "5cc951f9",
   "metadata": {},
   "outputs": [
    {
     "name": "stderr",
     "output_type": "stream",
     "text": [
      "/Users/chrispeterson/opt/anaconda3/lib/python3.9/site-packages/seaborn/distributions.py:2619: FutureWarning: `distplot` is a deprecated function and will be removed in a future version. Please adapt your code to use either `displot` (a figure-level function with similar flexibility) or `histplot` (an axes-level function for histograms).\n",
      "  warnings.warn(msg, FutureWarning)\n"
     ]
    },
    {
     "data": {
      "image/png": "[encoded data removed]",
      "text/plain": [
       "<Figure size 432x288 with 1 Axes>"
      ]
     },
     "metadata": {
      "needs_background": "light"
     },
     "output_type": "display_data"
    }
   ],
   "source": [
    "sns.distplot(df3['popularity'])\n",
    "plt.show()"
   ]
  },
  {
   "cell_type": "markdown",
   "id": "fdfa335a",
   "metadata": {},
   "source": [
    "Taking a look and the popularity density, we see not a whole lot of very popular movies, and a lot of unpopular movies.  There would appear to be much more movies that are not popular produced.  Which, thinking about it makes sense, the critically acclaimed movies don't come around that often."
   ]
  },
  {
   "cell_type": "code",
   "execution_count": 97,
   "id": "6d812c01",
   "metadata": {},
   "outputs": [
    {
     "data": {
      "text/plain": [
       "Text(0.5, 0, 'popularity')"
      ]
     },
     "execution_count": 97,
     "metadata": {},
     "output_type": "execute_result"
    },
    {
     "data": {
      "image/png": "[encoded data removed]",
      "text/plain": [
       "<Figure size 432x288 with 1 Axes>"
      ]
     },
     "metadata": {},
     "output_type": "display_data"
    }
   ],
   "source": [
    "df3['popularity'].plot(logy=True, kind='hist')\n",
    "plt.xlabel('popularity')"
   ]
  },
  {
   "cell_type": "markdown",
   "id": "b770382c",
   "metadata": {},
   "source": [
    "taking a better look at the popularity and frequency - log graph to show this."
   ]
  },
  {
   "cell_type": "code",
   "execution_count": 28,
   "id": "8ae12238",
   "metadata": {},
   "outputs": [
    {
     "data": {
      "text/html": [
       "<div>\n",
       "<style scoped>\n",
       "    .dataframe tbody tr th:only-of-type {\n",
       "        vertical-align: middle;\n",
       "    }\n",
       "\n",
       "    .dataframe tbody tr th {\n",
       "        vertical-align: top;\n",
       "    }\n",
       "\n",
       "    .dataframe thead th {\n",
       "        text-align: right;\n",
       "    }\n",
       "</style>\n",
       "<table border=\"1\" class=\"dataframe\">\n",
       "  <thead>\n",
       "    <tr style=\"text-align: right;\">\n",
       "      <th></th>\n",
       "      <th>original_title</th>\n",
       "      <th>popularity</th>\n",
       "      <th>release_year</th>\n",
       "    </tr>\n",
       "  </thead>\n",
       "  <tbody>\n",
       "    <tr>\n",
       "      <th>0</th>\n",
       "      <td>Jurassic World</td>\n",
       "      <td>32.985763</td>\n",
       "      <td>2015</td>\n",
       "    </tr>\n",
       "    <tr>\n",
       "      <th>1</th>\n",
       "      <td>Mad Max: Fury Road</td>\n",
       "      <td>28.419936</td>\n",
       "      <td>2015</td>\n",
       "    </tr>\n",
       "    <tr>\n",
       "      <th>629</th>\n",
       "      <td>Interstellar</td>\n",
       "      <td>24.949134</td>\n",
       "      <td>2014</td>\n",
       "    </tr>\n",
       "    <tr>\n",
       "      <th>630</th>\n",
       "      <td>Guardians of the Galaxy</td>\n",
       "      <td>14.311205</td>\n",
       "      <td>2014</td>\n",
       "    </tr>\n",
       "    <tr>\n",
       "      <th>2</th>\n",
       "      <td>Insurgent</td>\n",
       "      <td>13.112507</td>\n",
       "      <td>2015</td>\n",
       "    </tr>\n",
       "    <tr>\n",
       "      <th>631</th>\n",
       "      <td>Captain America: The Winter Soldier</td>\n",
       "      <td>12.971027</td>\n",
       "      <td>2014</td>\n",
       "    </tr>\n",
       "    <tr>\n",
       "      <th>1329</th>\n",
       "      <td>Star Wars</td>\n",
       "      <td>12.037933</td>\n",
       "      <td>1977</td>\n",
       "    </tr>\n",
       "    <tr>\n",
       "      <th>632</th>\n",
       "      <td>John Wick</td>\n",
       "      <td>11.422751</td>\n",
       "      <td>2014</td>\n",
       "    </tr>\n",
       "    <tr>\n",
       "      <th>3</th>\n",
       "      <td>Star Wars: The Force Awakens</td>\n",
       "      <td>11.173104</td>\n",
       "      <td>2015</td>\n",
       "    </tr>\n",
       "    <tr>\n",
       "      <th>633</th>\n",
       "      <td>The Hunger Games: Mockingjay - Part 1</td>\n",
       "      <td>10.739009</td>\n",
       "      <td>2014</td>\n",
       "    </tr>\n",
       "  </tbody>\n",
       "</table>\n",
       "</div>"
      ],
      "text/plain": [
       "                             original_title  popularity  release_year\n",
       "0                            Jurassic World   32.985763          2015\n",
       "1                        Mad Max: Fury Road   28.419936          2015\n",
       "629                            Interstellar   24.949134          2014\n",
       "630                 Guardians of the Galaxy   14.311205          2014\n",
       "2                                 Insurgent   13.112507          2015\n",
       "631     Captain America: The Winter Soldier   12.971027          2014\n",
       "1329                              Star Wars   12.037933          1977\n",
       "632                               John Wick   11.422751          2014\n",
       "3              Star Wars: The Force Awakens   11.173104          2015\n",
       "633   The Hunger Games: Mockingjay - Part 1   10.739009          2014"
      ]
     },
     "execution_count": 28,
     "metadata": {},
     "output_type": "execute_result"
    }
   ],
   "source": [
    "df3[['original_title', 'popularity', 'release_year']].sort_values('popularity', ascending=False).head(10)"
   ]
  },
  {
   "cell_type": "markdown",
   "id": "9c5037df",
   "metadata": {},
   "source": [
    "Now that we know there aren't that many super popular movies, we can order them by most populare and see what we get.  Jurassic world is the most populare in our DF, and the oldest movie in our top 10 is Star Wars."
   ]
  },
  {
   "cell_type": "code",
   "execution_count": 29,
   "id": "cdc4c844",
   "metadata": {},
   "outputs": [
    {
     "data": {
      "text/plain": [
       "count    3855.000000\n",
       "mean      527.611933\n",
       "std       879.868374\n",
       "min        10.000000\n",
       "25%        71.000000\n",
       "50%       204.000000\n",
       "75%       580.000000\n",
       "max      9767.000000\n",
       "Name: vote_count, dtype: float64"
      ]
     },
     "execution_count": 29,
     "metadata": {},
     "output_type": "execute_result"
    }
   ],
   "source": [
    "df3['vote_count'].describe()"
   ]
  },
  {
   "cell_type": "code",
   "execution_count": 30,
   "id": "a206c953",
   "metadata": {},
   "outputs": [
    {
     "data": {
      "text/html": [
       "<div>\n",
       "<style scoped>\n",
       "    .dataframe tbody tr th:only-of-type {\n",
       "        vertical-align: middle;\n",
       "    }\n",
       "\n",
       "    .dataframe tbody tr th {\n",
       "        vertical-align: top;\n",
       "    }\n",
       "\n",
       "    .dataframe thead th {\n",
       "        text-align: right;\n",
       "    }\n",
       "</style>\n",
       "<table border=\"1\" class=\"dataframe\">\n",
       "  <thead>\n",
       "    <tr style=\"text-align: right;\">\n",
       "      <th></th>\n",
       "      <th>original_title</th>\n",
       "      <th>vote_count</th>\n",
       "      <th>release_year</th>\n",
       "    </tr>\n",
       "  </thead>\n",
       "  <tbody>\n",
       "    <tr>\n",
       "      <th>1919</th>\n",
       "      <td>Inception</td>\n",
       "      <td>9767.0</td>\n",
       "      <td>2010</td>\n",
       "    </tr>\n",
       "    <tr>\n",
       "      <th>4361</th>\n",
       "      <td>The Avengers</td>\n",
       "      <td>8903.0</td>\n",
       "      <td>2012</td>\n",
       "    </tr>\n",
       "    <tr>\n",
       "      <th>1386</th>\n",
       "      <td>Avatar</td>\n",
       "      <td>8458.0</td>\n",
       "      <td>2009</td>\n",
       "    </tr>\n",
       "    <tr>\n",
       "      <th>2875</th>\n",
       "      <td>The Dark Knight</td>\n",
       "      <td>8432.0</td>\n",
       "      <td>2008</td>\n",
       "    </tr>\n",
       "    <tr>\n",
       "      <th>4364</th>\n",
       "      <td>Django Unchained</td>\n",
       "      <td>7375.0</td>\n",
       "      <td>2012</td>\n",
       "    </tr>\n",
       "    <tr>\n",
       "      <th>4382</th>\n",
       "      <td>The Hunger Games</td>\n",
       "      <td>7080.0</td>\n",
       "      <td>2012</td>\n",
       "    </tr>\n",
       "    <tr>\n",
       "      <th>5425</th>\n",
       "      <td>Iron Man 3</td>\n",
       "      <td>6882.0</td>\n",
       "      <td>2013</td>\n",
       "    </tr>\n",
       "    <tr>\n",
       "      <th>4363</th>\n",
       "      <td>The Dark Knight Rises</td>\n",
       "      <td>6723.0</td>\n",
       "      <td>2012</td>\n",
       "    </tr>\n",
       "    <tr>\n",
       "      <th>629</th>\n",
       "      <td>Interstellar</td>\n",
       "      <td>6498.0</td>\n",
       "      <td>2014</td>\n",
       "    </tr>\n",
       "    <tr>\n",
       "      <th>4367</th>\n",
       "      <td>The Hobbit: An Unexpected Journey</td>\n",
       "      <td>6417.0</td>\n",
       "      <td>2012</td>\n",
       "    </tr>\n",
       "  </tbody>\n",
       "</table>\n",
       "</div>"
      ],
      "text/plain": [
       "                         original_title  vote_count  release_year\n",
       "1919                          Inception      9767.0          2010\n",
       "4361                       The Avengers      8903.0          2012\n",
       "1386                             Avatar      8458.0          2009\n",
       "2875                    The Dark Knight      8432.0          2008\n",
       "4364                   Django Unchained      7375.0          2012\n",
       "4382                   The Hunger Games      7080.0          2012\n",
       "5425                         Iron Man 3      6882.0          2013\n",
       "4363              The Dark Knight Rises      6723.0          2012\n",
       "629                        Interstellar      6498.0          2014\n",
       "4367  The Hobbit: An Unexpected Journey      6417.0          2012"
      ]
     },
     "execution_count": 30,
     "metadata": {},
     "output_type": "execute_result"
    }
   ],
   "source": [
    "#most voted on movies:\n",
    "df3[['original_title', 'vote_count', 'release_year']].sort_values('vote_count', ascending=False).head(10)"
   ]
  },
  {
   "cell_type": "code",
   "execution_count": 31,
   "id": "ffcc88e0",
   "metadata": {},
   "outputs": [
    {
     "name": "stderr",
     "output_type": "stream",
     "text": [
      "/Users/chrispeterson/opt/anaconda3/lib/python3.9/site-packages/seaborn/distributions.py:2619: FutureWarning: `distplot` is a deprecated function and will be removed in a future version. Please adapt your code to use either `displot` (a figure-level function with similar flexibility) or `histplot` (an axes-level function for histograms).\n",
      "  warnings.warn(msg, FutureWarning)\n"
     ]
    },
    {
     "data": {
      "text/plain": [
       "<AxesSubplot:xlabel='vote_average', ylabel='Density'>"
      ]
     },
     "execution_count": 31,
     "metadata": {},
     "output_type": "execute_result"
    },
    {
     "data": {
      "image/png": "[encoded data removed]",
      "text/plain": [
       "<Figure size 432x288 with 1 Axes>"
      ]
     },
     "metadata": {
      "needs_background": "light"
     },
     "output_type": "display_data"
    }
   ],
   "source": [
    "sns.distplot(df3['vote_average'])"
   ]
  },
  {
   "cell_type": "markdown",
   "id": "0574044e",
   "metadata": {},
   "source": [
    "If we take a look at the vote average we get a pretty standard looking graph, although it has a slightly long left tail, this tells us that people tend to on average vote movies in the 6-6.5 range."
   ]
  },
  {
   "cell_type": "code",
   "execution_count": 32,
   "id": "d5d5bc7d",
   "metadata": {},
   "outputs": [
    {
     "data": {
      "text/html": [
       "<div>\n",
       "<style scoped>\n",
       "    .dataframe tbody tr th:only-of-type {\n",
       "        vertical-align: middle;\n",
       "    }\n",
       "\n",
       "    .dataframe tbody tr th {\n",
       "        vertical-align: top;\n",
       "    }\n",
       "\n",
       "    .dataframe thead th {\n",
       "        text-align: right;\n",
       "    }\n",
       "</style>\n",
       "<table border=\"1\" class=\"dataframe\">\n",
       "  <thead>\n",
       "    <tr style=\"text-align: right;\">\n",
       "      <th></th>\n",
       "      <th>original_title</th>\n",
       "      <th>vote_average</th>\n",
       "      <th>vote_count</th>\n",
       "      <th>release_year</th>\n",
       "    </tr>\n",
       "  </thead>\n",
       "  <tbody>\n",
       "    <tr>\n",
       "      <th>4178</th>\n",
       "      <td>The Shawshank Redemption</td>\n",
       "      <td>8.4</td>\n",
       "      <td>5754.0</td>\n",
       "      <td>1994</td>\n",
       "    </tr>\n",
       "    <tr>\n",
       "      <th>7269</th>\n",
       "      <td>The Godfather</td>\n",
       "      <td>8.3</td>\n",
       "      <td>3970.0</td>\n",
       "      <td>1972</td>\n",
       "    </tr>\n",
       "    <tr>\n",
       "      <th>650</th>\n",
       "      <td>Whiplash</td>\n",
       "      <td>8.2</td>\n",
       "      <td>2372.0</td>\n",
       "      <td>2014</td>\n",
       "    </tr>\n",
       "    <tr>\n",
       "      <th>4179</th>\n",
       "      <td>Forrest Gump</td>\n",
       "      <td>8.1</td>\n",
       "      <td>4856.0</td>\n",
       "      <td>1994</td>\n",
       "    </tr>\n",
       "    <tr>\n",
       "      <th>10222</th>\n",
       "      <td>Schindler's List</td>\n",
       "      <td>8.1</td>\n",
       "      <td>2632.0</td>\n",
       "      <td>1993</td>\n",
       "    </tr>\n",
       "    <tr>\n",
       "      <th>9758</th>\n",
       "      <td>The Godfather: Part II</td>\n",
       "      <td>8.1</td>\n",
       "      <td>2131.0</td>\n",
       "      <td>1974</td>\n",
       "    </tr>\n",
       "    <tr>\n",
       "      <th>2409</th>\n",
       "      <td>Fight Club</td>\n",
       "      <td>8.1</td>\n",
       "      <td>5923.0</td>\n",
       "      <td>1999</td>\n",
       "    </tr>\n",
       "    <tr>\n",
       "      <th>4177</th>\n",
       "      <td>Pulp Fiction</td>\n",
       "      <td>8.1</td>\n",
       "      <td>5343.0</td>\n",
       "      <td>1994</td>\n",
       "    </tr>\n",
       "    <tr>\n",
       "      <th>2875</th>\n",
       "      <td>The Dark Knight</td>\n",
       "      <td>8.1</td>\n",
       "      <td>8432.0</td>\n",
       "      <td>2008</td>\n",
       "    </tr>\n",
       "    <tr>\n",
       "      <th>2414</th>\n",
       "      <td>The Green Mile</td>\n",
       "      <td>8.0</td>\n",
       "      <td>2299.0</td>\n",
       "      <td>1999</td>\n",
       "    </tr>\n",
       "  </tbody>\n",
       "</table>\n",
       "</div>"
      ],
      "text/plain": [
       "                 original_title  vote_average  vote_count  release_year\n",
       "4178   The Shawshank Redemption           8.4      5754.0          1994\n",
       "7269              The Godfather           8.3      3970.0          1972\n",
       "650                    Whiplash           8.2      2372.0          2014\n",
       "4179               Forrest Gump           8.1      4856.0          1994\n",
       "10222          Schindler's List           8.1      2632.0          1993\n",
       "9758     The Godfather: Part II           8.1      2131.0          1974\n",
       "2409                 Fight Club           8.1      5923.0          1999\n",
       "4177               Pulp Fiction           8.1      5343.0          1994\n",
       "2875            The Dark Knight           8.1      8432.0          2008\n",
       "2414             The Green Mile           8.0      2299.0          1999"
      ]
     },
     "execution_count": 32,
     "metadata": {},
     "output_type": "execute_result"
    }
   ],
   "source": [
    "#vote count over 2k\n",
    "df3[df3['vote_count'] > 2000][['original_title', 'vote_average', 'vote_count' ,'release_year']].sort_values('vote_average', ascending=False).head(10)\n"
   ]
  },
  {
   "cell_type": "markdown",
   "id": "a83db814",
   "metadata": {},
   "source": [
    "Let's take a look at the movies that have a vote count over 2000, and sort them by highest vote average.  Shawshank Redemption tops our list, and I agree with the assessment of this list.  Some great movies are in this top 10."
   ]
  },
  {
   "cell_type": "code",
   "execution_count": 33,
   "id": "66e89400",
   "metadata": {},
   "outputs": [
    {
     "data": {
      "text/plain": [
       "count    3.855000e+03\n",
       "mean     3.720183e+07\n",
       "std      4.220291e+07\n",
       "min      1.000000e+00\n",
       "25%      1.000000e+07\n",
       "50%      2.400000e+07\n",
       "75%      5.000000e+07\n",
       "max      4.250000e+08\n",
       "Name: budget, dtype: float64"
      ]
     },
     "execution_count": 33,
     "metadata": {},
     "output_type": "execute_result"
    }
   ],
   "source": [
    "df3['budget'].describe()"
   ]
  },
  {
   "cell_type": "code",
   "execution_count": 34,
   "id": "2f09af8e",
   "metadata": {},
   "outputs": [
    {
     "name": "stderr",
     "output_type": "stream",
     "text": [
      "/Users/chrispeterson/opt/anaconda3/lib/python3.9/site-packages/seaborn/distributions.py:2619: FutureWarning: `distplot` is a deprecated function and will be removed in a future version. Please adapt your code to use either `displot` (a figure-level function with similar flexibility) or `histplot` (an axes-level function for histograms).\n",
      "  warnings.warn(msg, FutureWarning)\n"
     ]
    },
    {
     "data": {
      "text/plain": [
       "<AxesSubplot:xlabel='budget', ylabel='Density'>"
      ]
     },
     "execution_count": 34,
     "metadata": {},
     "output_type": "execute_result"
    },
    {
     "data": {
      "image/png": "[encoded data removed]",
      "text/plain": [
       "<Figure size 432x288 with 1 Axes>"
      ]
     },
     "metadata": {
      "needs_background": "light"
     },
     "output_type": "display_data"
    }
   ],
   "source": [
    "sns.distplot(df3[df3['budget'].notnull()]['budget'])\n"
   ]
  },
  {
   "cell_type": "code",
   "execution_count": 98,
   "id": "3f6c5942",
   "metadata": {},
   "outputs": [
    {
     "data": {
      "text/plain": [
       "Text(0.5, 0, 'budget')"
      ]
     },
     "execution_count": 98,
     "metadata": {},
     "output_type": "execute_result"
    },
    {
     "data": {
      "image/png": "[encoded data removed]",
      "text/plain": [
       "<Figure size 432x288 with 1 Axes>"
      ]
     },
     "metadata": {},
     "output_type": "display_data"
    }
   ],
   "source": [
    "df3['budget'].plot(logy=True, kind='hist')\n",
    "plt.xlabel('budget')"
   ]
  },
  {
   "cell_type": "markdown",
   "id": "39e15f66",
   "metadata": {},
   "source": [
    "Getting more indepth on the budgets, we see a massive right tail on this histogram, and that checks out with what you would assume.  Most companies want to minmize expenditures on movies and that is represented by this graph."
   ]
  },
  {
   "cell_type": "code",
   "execution_count": 36,
   "id": "884dc83e",
   "metadata": {},
   "outputs": [
    {
     "data": {
      "text/html": [
       "<div>\n",
       "<style scoped>\n",
       "    .dataframe tbody tr th:only-of-type {\n",
       "        vertical-align: middle;\n",
       "    }\n",
       "\n",
       "    .dataframe tbody tr th {\n",
       "        vertical-align: top;\n",
       "    }\n",
       "\n",
       "    .dataframe thead th {\n",
       "        text-align: right;\n",
       "    }\n",
       "</style>\n",
       "<table border=\"1\" class=\"dataframe\">\n",
       "  <thead>\n",
       "    <tr style=\"text-align: right;\">\n",
       "      <th></th>\n",
       "      <th>popularity</th>\n",
       "      <th>budget</th>\n",
       "      <th>revenue</th>\n",
       "      <th>original_title</th>\n",
       "      <th>cast</th>\n",
       "      <th>director</th>\n",
       "      <th>runtime</th>\n",
       "      <th>genres</th>\n",
       "      <th>production_companies</th>\n",
       "      <th>release_date</th>\n",
       "      <th>vote_count</th>\n",
       "      <th>vote_average</th>\n",
       "      <th>release_year</th>\n",
       "      <th>budget_adj</th>\n",
       "      <th>revenue_adj</th>\n",
       "    </tr>\n",
       "  </thead>\n",
       "  <tbody>\n",
       "    <tr>\n",
       "      <th>0</th>\n",
       "      <td>32.985763</td>\n",
       "      <td>150000000</td>\n",
       "      <td>1513528810</td>\n",
       "      <td>Jurassic World</td>\n",
       "      <td>Chris Pratt|Bryce Dallas Howard|Irrfan Khan|Vi...</td>\n",
       "      <td>Colin Trevorrow</td>\n",
       "      <td>124</td>\n",
       "      <td>Action|Adventure|Science Fiction|Thriller</td>\n",
       "      <td>Universal Studios|Amblin Entertainment|Legenda...</td>\n",
       "      <td>2015-06-09</td>\n",
       "      <td>5562.0</td>\n",
       "      <td>6.5</td>\n",
       "      <td>2015</td>\n",
       "      <td>1.379999e+08</td>\n",
       "      <td>1.392446e+09</td>\n",
       "    </tr>\n",
       "    <tr>\n",
       "      <th>1</th>\n",
       "      <td>28.419936</td>\n",
       "      <td>150000000</td>\n",
       "      <td>378436354</td>\n",
       "      <td>Mad Max: Fury Road</td>\n",
       "      <td>Tom Hardy|Charlize Theron|Hugh Keays-Byrne|Nic...</td>\n",
       "      <td>George Miller</td>\n",
       "      <td>120</td>\n",
       "      <td>Action|Adventure|Science Fiction|Thriller</td>\n",
       "      <td>Village Roadshow Pictures|Kennedy Miller Produ...</td>\n",
       "      <td>2015-05-13</td>\n",
       "      <td>6185.0</td>\n",
       "      <td>7.1</td>\n",
       "      <td>2015</td>\n",
       "      <td>1.379999e+08</td>\n",
       "      <td>3.481613e+08</td>\n",
       "    </tr>\n",
       "  </tbody>\n",
       "</table>\n",
       "</div>"
      ],
      "text/plain": [
       "   popularity     budget     revenue      original_title  \\\n",
       "0   32.985763  150000000  1513528810      Jurassic World   \n",
       "1   28.419936  150000000   378436354  Mad Max: Fury Road   \n",
       "\n",
       "                                                cast         director  \\\n",
       "0  Chris Pratt|Bryce Dallas Howard|Irrfan Khan|Vi...  Colin Trevorrow   \n",
       "1  Tom Hardy|Charlize Theron|Hugh Keays-Byrne|Nic...    George Miller   \n",
       "\n",
       "   runtime                                     genres  \\\n",
       "0      124  Action|Adventure|Science Fiction|Thriller   \n",
       "1      120  Action|Adventure|Science Fiction|Thriller   \n",
       "\n",
       "                                production_companies release_date  vote_count  \\\n",
       "0  Universal Studios|Amblin Entertainment|Legenda...   2015-06-09      5562.0   \n",
       "1  Village Roadshow Pictures|Kennedy Miller Produ...   2015-05-13      6185.0   \n",
       "\n",
       "   vote_average  release_year    budget_adj   revenue_adj  \n",
       "0           6.5          2015  1.379999e+08  1.392446e+09  \n",
       "1           7.1          2015  1.379999e+08  3.481613e+08  "
      ]
     },
     "execution_count": 36,
     "metadata": {},
     "output_type": "execute_result"
    }
   ],
   "source": [
    "df3.head(2)"
   ]
  },
  {
   "cell_type": "code",
   "execution_count": 37,
   "id": "1fff7a86",
   "metadata": {},
   "outputs": [
    {
     "data": {
      "text/html": [
       "<div>\n",
       "<style scoped>\n",
       "    .dataframe tbody tr th:only-of-type {\n",
       "        vertical-align: middle;\n",
       "    }\n",
       "\n",
       "    .dataframe tbody tr th {\n",
       "        vertical-align: top;\n",
       "    }\n",
       "\n",
       "    .dataframe thead th {\n",
       "        text-align: right;\n",
       "    }\n",
       "</style>\n",
       "<table border=\"1\" class=\"dataframe\">\n",
       "  <thead>\n",
       "    <tr style=\"text-align: right;\">\n",
       "      <th></th>\n",
       "      <th>original_title</th>\n",
       "      <th>budget</th>\n",
       "      <th>revenue</th>\n",
       "      <th>release_year</th>\n",
       "    </tr>\n",
       "  </thead>\n",
       "  <tbody>\n",
       "    <tr>\n",
       "      <th>2244</th>\n",
       "      <td>The Warrior's Way</td>\n",
       "      <td>425000000</td>\n",
       "      <td>11087569</td>\n",
       "      <td>2010</td>\n",
       "    </tr>\n",
       "    <tr>\n",
       "      <th>3375</th>\n",
       "      <td>Pirates of the Caribbean: On Stranger Tides</td>\n",
       "      <td>380000000</td>\n",
       "      <td>1021683000</td>\n",
       "      <td>2011</td>\n",
       "    </tr>\n",
       "    <tr>\n",
       "      <th>7387</th>\n",
       "      <td>Pirates of the Caribbean: At World's End</td>\n",
       "      <td>300000000</td>\n",
       "      <td>961000000</td>\n",
       "      <td>2007</td>\n",
       "    </tr>\n",
       "    <tr>\n",
       "      <th>14</th>\n",
       "      <td>Avengers: Age of Ultron</td>\n",
       "      <td>280000000</td>\n",
       "      <td>1405035767</td>\n",
       "      <td>2015</td>\n",
       "    </tr>\n",
       "    <tr>\n",
       "      <th>6570</th>\n",
       "      <td>Superman Returns</td>\n",
       "      <td>270000000</td>\n",
       "      <td>391081192</td>\n",
       "      <td>2006</td>\n",
       "    </tr>\n",
       "    <tr>\n",
       "      <th>1929</th>\n",
       "      <td>Tangled</td>\n",
       "      <td>260000000</td>\n",
       "      <td>591794936</td>\n",
       "      <td>2010</td>\n",
       "    </tr>\n",
       "    <tr>\n",
       "      <th>4411</th>\n",
       "      <td>John Carter</td>\n",
       "      <td>260000000</td>\n",
       "      <td>284139100</td>\n",
       "      <td>2012</td>\n",
       "    </tr>\n",
       "    <tr>\n",
       "      <th>7394</th>\n",
       "      <td>Spider-Man 3</td>\n",
       "      <td>258000000</td>\n",
       "      <td>890871626</td>\n",
       "      <td>2007</td>\n",
       "    </tr>\n",
       "    <tr>\n",
       "      <th>5508</th>\n",
       "      <td>The Lone Ranger</td>\n",
       "      <td>255000000</td>\n",
       "      <td>89289910</td>\n",
       "      <td>2013</td>\n",
       "    </tr>\n",
       "    <tr>\n",
       "      <th>643</th>\n",
       "      <td>X-Men: Days of Future Past</td>\n",
       "      <td>250000000</td>\n",
       "      <td>746000000</td>\n",
       "      <td>2014</td>\n",
       "    </tr>\n",
       "  </tbody>\n",
       "</table>\n",
       "</div>"
      ],
      "text/plain": [
       "                                   original_title     budget     revenue  \\\n",
       "2244                            The Warrior's Way  425000000    11087569   \n",
       "3375  Pirates of the Caribbean: On Stranger Tides  380000000  1021683000   \n",
       "7387     Pirates of the Caribbean: At World's End  300000000   961000000   \n",
       "14                        Avengers: Age of Ultron  280000000  1405035767   \n",
       "6570                             Superman Returns  270000000   391081192   \n",
       "1929                                      Tangled  260000000   591794936   \n",
       "4411                                  John Carter  260000000   284139100   \n",
       "7394                                 Spider-Man 3  258000000   890871626   \n",
       "5508                              The Lone Ranger  255000000    89289910   \n",
       "643                    X-Men: Days of Future Past  250000000   746000000   \n",
       "\n",
       "      release_year  \n",
       "2244          2010  \n",
       "3375          2011  \n",
       "7387          2007  \n",
       "14            2015  \n",
       "6570          2006  \n",
       "1929          2010  \n",
       "4411          2012  \n",
       "7394          2007  \n",
       "5508          2013  \n",
       "643           2014  "
      ]
     },
     "execution_count": 37,
     "metadata": {},
     "output_type": "execute_result"
    }
   ],
   "source": [
    "#\n",
    "\n",
    "df3[df3['budget'].notnull()][['original_title', 'budget', 'revenue', 'release_year']].sort_values('budget', ascending=False).head(10)"
   ]
  },
  {
   "cell_type": "markdown",
   "id": "fb80b865",
   "metadata": {},
   "source": [
    "Another interesting metric to look at, the highest budgeted movies.  I haven't even heard of the movie The Warriors Way, but wikipedia has confirmed that it indeed cost 42 Million dollars to make, and only brought in a measley 11.1 Million.  31 Million dollars in the hole - ouch."
   ]
  },
  {
   "cell_type": "code",
   "execution_count": 38,
   "id": "e86571e0",
   "metadata": {},
   "outputs": [
    {
     "data": {
      "text/html": [
       "<div>\n",
       "<style scoped>\n",
       "    .dataframe tbody tr th:only-of-type {\n",
       "        vertical-align: middle;\n",
       "    }\n",
       "\n",
       "    .dataframe tbody tr th {\n",
       "        vertical-align: top;\n",
       "    }\n",
       "\n",
       "    .dataframe thead th {\n",
       "        text-align: right;\n",
       "    }\n",
       "</style>\n",
       "<table border=\"1\" class=\"dataframe\">\n",
       "  <thead>\n",
       "    <tr style=\"text-align: right;\">\n",
       "      <th></th>\n",
       "      <th>popularity</th>\n",
       "      <th>budget</th>\n",
       "      <th>revenue</th>\n",
       "      <th>original_title</th>\n",
       "      <th>cast</th>\n",
       "      <th>director</th>\n",
       "      <th>runtime</th>\n",
       "      <th>genres</th>\n",
       "      <th>production_companies</th>\n",
       "      <th>release_date</th>\n",
       "      <th>vote_count</th>\n",
       "      <th>vote_average</th>\n",
       "      <th>release_year</th>\n",
       "      <th>budget_adj</th>\n",
       "      <th>revenue_adj</th>\n",
       "    </tr>\n",
       "  </thead>\n",
       "  <tbody>\n",
       "    <tr>\n",
       "      <th>0</th>\n",
       "      <td>32.985763</td>\n",
       "      <td>150000000</td>\n",
       "      <td>1513528810</td>\n",
       "      <td>Jurassic World</td>\n",
       "      <td>Chris Pratt|Bryce Dallas Howard|Irrfan Khan|Vi...</td>\n",
       "      <td>Colin Trevorrow</td>\n",
       "      <td>124</td>\n",
       "      <td>Action|Adventure|Science Fiction|Thriller</td>\n",
       "      <td>Universal Studios|Amblin Entertainment|Legenda...</td>\n",
       "      <td>2015-06-09</td>\n",
       "      <td>5562.0</td>\n",
       "      <td>6.5</td>\n",
       "      <td>2015</td>\n",
       "      <td>1.379999e+08</td>\n",
       "      <td>1.392446e+09</td>\n",
       "    </tr>\n",
       "  </tbody>\n",
       "</table>\n",
       "</div>"
      ],
      "text/plain": [
       "   popularity     budget     revenue  original_title  \\\n",
       "0   32.985763  150000000  1513528810  Jurassic World   \n",
       "\n",
       "                                                cast         director  \\\n",
       "0  Chris Pratt|Bryce Dallas Howard|Irrfan Khan|Vi...  Colin Trevorrow   \n",
       "\n",
       "   runtime                                     genres  \\\n",
       "0      124  Action|Adventure|Science Fiction|Thriller   \n",
       "\n",
       "                                production_companies release_date  vote_count  \\\n",
       "0  Universal Studios|Amblin Entertainment|Legenda...   2015-06-09      5562.0   \n",
       "\n",
       "   vote_average  release_year    budget_adj   revenue_adj  \n",
       "0           6.5          2015  1.379999e+08  1.392446e+09  "
      ]
     },
     "execution_count": 38,
     "metadata": {},
     "output_type": "execute_result"
    }
   ],
   "source": [
    "df3.head(1)"
   ]
  },
  {
   "cell_type": "markdown",
   "id": "cb468d55",
   "metadata": {},
   "source": [
    "Lets look at a correlation heatmap and see if anything in particular jumps out:  Vote count and popularity/revenue seem to be fairly correlated."
   ]
  },
  {
   "cell_type": "code",
   "execution_count": 39,
   "id": "ac4d0a86",
   "metadata": {},
   "outputs": [
    {
     "name": "stdout",
     "output_type": "stream",
     "text": [
      "Correlation between various features\n"
     ]
    },
    {
     "data": {
      "image/png": "[encoded data removed]",
      "text/plain": [
       "<Figure size 864x720 with 2 Axes>"
      ]
     },
     "metadata": {
      "needs_background": "light"
     },
     "output_type": "display_data"
    }
   ],
   "source": [
    "plt.figure(figsize=(12,10))\n",
    "print('Correlation between various features')\n",
    "p=sns.heatmap(df3.corr(), annot=True,cmap ='Blues')"
   ]
  },
  {
   "cell_type": "markdown",
   "id": "96fb2d24",
   "metadata": {},
   "source": [
    "Let's recall our jointplot from earlier and see if the graph matches to our correlation matrix from above:  Here, lets look at vote count and popularity"
   ]
  },
  {
   "cell_type": "code",
   "execution_count": 100,
   "id": "655e6f54",
   "metadata": {},
   "outputs": [
    {
     "data": {
      "text/plain": [
       "<seaborn.axisgrid.JointGrid at 0x7f96282e18e0>"
      ]
     },
     "execution_count": 100,
     "metadata": {},
     "output_type": "execute_result"
    },
    {
     "data": {
      "image/png": "[encoded data removed]",
      "text/plain": [
       "<Figure size 432x432 with 3 Axes>"
      ]
     },
     "metadata": {},
     "output_type": "display_data"
    }
   ],
   "source": [
    "sns.jointplot(x='vote_count',y='popularity',data=df3[df3['return'].notnull()])"
   ]
  },
  {
   "cell_type": "code",
   "execution_count": 50,
   "id": "76eb8654",
   "metadata": {},
   "outputs": [
    {
     "name": "stderr",
     "output_type": "stream",
     "text": [
      "/var/folders/_h/dwy911cd0qv8wmdhz6pd0d740000gn/T/ipykernel_13385/565083722.py:1: FutureWarning: The default value of regex will change from True to False in a future version. In addition, single character regular expressions will *not* be treated as literal strings when regex=True.\n",
      "  df3['genres'] = df3['genres'].str.replace('|',', ').str.replace(',',' ')\n"
     ]
    }
   ],
   "source": [
    "df3['genres'] = df3['genres'].str.replace('|',', ').str.replace(',',' ')\n"
   ]
  },
  {
   "cell_type": "code",
   "execution_count": 58,
   "id": "29d43156",
   "metadata": {},
   "outputs": [
    {
     "name": "stderr",
     "output_type": "stream",
     "text": [
      "/var/folders/_h/dwy911cd0qv8wmdhz6pd0d740000gn/T/ipykernel_13385/1845055813.py:1: FutureWarning: The default value of regex will change from True to False in a future version. In addition, single character regular expressions will *not* be treated as literal strings when regex=True.\n",
      "  df3['cast'] = df3['cast'].str.replace('|',', ').str.replace(',',' ')\n"
     ]
    }
   ],
   "source": [
    "df3['cast'] = df3['cast'].str.replace('|',', ').str.replace(',',' ')\n"
   ]
  },
  {
   "cell_type": "code",
   "execution_count": 59,
   "id": "601392e4",
   "metadata": {},
   "outputs": [
    {
     "name": "stderr",
     "output_type": "stream",
     "text": [
      "/var/folders/_h/dwy911cd0qv8wmdhz6pd0d740000gn/T/ipykernel_13385/2082254045.py:1: FutureWarning: The default value of regex will change from True to False in a future version. In addition, single character regular expressions will *not* be treated as literal strings when regex=True.\n",
      "  df3['production_companies'] = df3['production_companies'].str.replace('|',', ').str.replace(',',' ')\n"
     ]
    }
   ],
   "source": [
    "df3['production_companies'] = df3['production_companies'].str.replace('|',', ').str.replace(',',' ')\n"
   ]
  },
  {
   "cell_type": "code",
   "execution_count": 60,
   "id": "e6e25214",
   "metadata": {},
   "outputs": [
    {
     "data": {
      "text/html": [
       "<div>\n",
       "<style scoped>\n",
       "    .dataframe tbody tr th:only-of-type {\n",
       "        vertical-align: middle;\n",
       "    }\n",
       "\n",
       "    .dataframe tbody tr th {\n",
       "        vertical-align: top;\n",
       "    }\n",
       "\n",
       "    .dataframe thead th {\n",
       "        text-align: right;\n",
       "    }\n",
       "</style>\n",
       "<table border=\"1\" class=\"dataframe\">\n",
       "  <thead>\n",
       "    <tr style=\"text-align: right;\">\n",
       "      <th></th>\n",
       "      <th>popularity</th>\n",
       "      <th>budget</th>\n",
       "      <th>revenue</th>\n",
       "      <th>original_title</th>\n",
       "      <th>cast</th>\n",
       "      <th>director</th>\n",
       "      <th>runtime</th>\n",
       "      <th>genres</th>\n",
       "      <th>production_companies</th>\n",
       "      <th>release_date</th>\n",
       "      <th>vote_count</th>\n",
       "      <th>vote_average</th>\n",
       "      <th>release_year</th>\n",
       "      <th>budget_adj</th>\n",
       "      <th>revenue_adj</th>\n",
       "      <th>return</th>\n",
       "    </tr>\n",
       "  </thead>\n",
       "  <tbody>\n",
       "    <tr>\n",
       "      <th>0</th>\n",
       "      <td>32.985763</td>\n",
       "      <td>150000000.0</td>\n",
       "      <td>1.513529e+09</td>\n",
       "      <td>Jurassic World</td>\n",
       "      <td>Chris Pratt  Bryce Dallas Howard  Irrfan Khan ...</td>\n",
       "      <td>Colin Trevorrow</td>\n",
       "      <td>124</td>\n",
       "      <td>Action Adventure ScienceFiction Thriller</td>\n",
       "      <td>Universal Studios  Amblin Entertainment  Legen...</td>\n",
       "      <td>2015-06-09</td>\n",
       "      <td>5562.0</td>\n",
       "      <td>6.5</td>\n",
       "      <td>2015</td>\n",
       "      <td>1.379999e+08</td>\n",
       "      <td>1.392446e+09</td>\n",
       "      <td>10.090192</td>\n",
       "    </tr>\n",
       "    <tr>\n",
       "      <th>1</th>\n",
       "      <td>28.419936</td>\n",
       "      <td>150000000.0</td>\n",
       "      <td>3.784364e+08</td>\n",
       "      <td>Mad Max: Fury Road</td>\n",
       "      <td>Tom Hardy  Charlize Theron  Hugh Keays-Byrne  ...</td>\n",
       "      <td>George Miller</td>\n",
       "      <td>120</td>\n",
       "      <td>Action Adventure ScienceFiction Thriller</td>\n",
       "      <td>Village Roadshow Pictures  Kennedy Miller Prod...</td>\n",
       "      <td>2015-05-13</td>\n",
       "      <td>6185.0</td>\n",
       "      <td>7.1</td>\n",
       "      <td>2015</td>\n",
       "      <td>1.379999e+08</td>\n",
       "      <td>3.481613e+08</td>\n",
       "      <td>2.522909</td>\n",
       "    </tr>\n",
       "    <tr>\n",
       "      <th>2</th>\n",
       "      <td>13.112507</td>\n",
       "      <td>110000000.0</td>\n",
       "      <td>2.952382e+08</td>\n",
       "      <td>Insurgent</td>\n",
       "      <td>Shailene Woodley  Theo James  Kate Winslet  An...</td>\n",
       "      <td>Robert Schwentke</td>\n",
       "      <td>119</td>\n",
       "      <td>Adventure ScienceFiction Thriller</td>\n",
       "      <td>Summit Entertainment  Mandeville Films  Red Wa...</td>\n",
       "      <td>2015-03-18</td>\n",
       "      <td>2480.0</td>\n",
       "      <td>6.3</td>\n",
       "      <td>2015</td>\n",
       "      <td>1.012000e+08</td>\n",
       "      <td>2.716190e+08</td>\n",
       "      <td>2.683984</td>\n",
       "    </tr>\n",
       "    <tr>\n",
       "      <th>3</th>\n",
       "      <td>11.173104</td>\n",
       "      <td>200000000.0</td>\n",
       "      <td>2.068178e+09</td>\n",
       "      <td>Star Wars: The Force Awakens</td>\n",
       "      <td>Harrison Ford  Mark Hamill  Carrie Fisher  Ada...</td>\n",
       "      <td>J.J. Abrams</td>\n",
       "      <td>136</td>\n",
       "      <td>Action Adventure ScienceFiction Fantasy</td>\n",
       "      <td>Lucasfilm  Truenorth Productions  Bad Robot</td>\n",
       "      <td>2015-12-15</td>\n",
       "      <td>5292.0</td>\n",
       "      <td>7.5</td>\n",
       "      <td>2015</td>\n",
       "      <td>1.839999e+08</td>\n",
       "      <td>1.902723e+09</td>\n",
       "      <td>10.340891</td>\n",
       "    </tr>\n",
       "    <tr>\n",
       "      <th>4</th>\n",
       "      <td>9.335014</td>\n",
       "      <td>190000000.0</td>\n",
       "      <td>1.506249e+09</td>\n",
       "      <td>Furious 7</td>\n",
       "      <td>Vin Diesel  Paul Walker  Jason Statham  Michel...</td>\n",
       "      <td>James Wan</td>\n",
       "      <td>137</td>\n",
       "      <td>Action Crime Thriller</td>\n",
       "      <td>Universal Pictures  Original Film  Media Right...</td>\n",
       "      <td>2015-04-01</td>\n",
       "      <td>2947.0</td>\n",
       "      <td>7.3</td>\n",
       "      <td>2015</td>\n",
       "      <td>1.747999e+08</td>\n",
       "      <td>1.385749e+09</td>\n",
       "      <td>7.927628</td>\n",
       "    </tr>\n",
       "    <tr>\n",
       "      <th>5</th>\n",
       "      <td>9.110700</td>\n",
       "      <td>135000000.0</td>\n",
       "      <td>5.329505e+08</td>\n",
       "      <td>The Revenant</td>\n",
       "      <td>Leonardo DiCaprio  Tom Hardy  Will Poulter  Do...</td>\n",
       "      <td>Alejandro GonzÃ¡lez IÃ±Ã¡rritu</td>\n",
       "      <td>156</td>\n",
       "      <td>Western Drama Adventure Thriller</td>\n",
       "      <td>Regency Enterprises  Appian Way  CatchPlay  An...</td>\n",
       "      <td>2015-12-25</td>\n",
       "      <td>3929.0</td>\n",
       "      <td>7.2</td>\n",
       "      <td>2015</td>\n",
       "      <td>1.241999e+08</td>\n",
       "      <td>4.903142e+08</td>\n",
       "      <td>3.947782</td>\n",
       "    </tr>\n",
       "    <tr>\n",
       "      <th>6</th>\n",
       "      <td>8.654359</td>\n",
       "      <td>155000000.0</td>\n",
       "      <td>4.406035e+08</td>\n",
       "      <td>Terminator Genisys</td>\n",
       "      <td>Arnold Schwarzenegger  Jason Clarke  Emilia Cl...</td>\n",
       "      <td>Alan Taylor</td>\n",
       "      <td>125</td>\n",
       "      <td>ScienceFiction Action Thriller Adventure</td>\n",
       "      <td>Paramount Pictures  Skydance Productions</td>\n",
       "      <td>2015-06-23</td>\n",
       "      <td>2598.0</td>\n",
       "      <td>5.8</td>\n",
       "      <td>2015</td>\n",
       "      <td>1.425999e+08</td>\n",
       "      <td>4.053551e+08</td>\n",
       "      <td>2.842603</td>\n",
       "    </tr>\n",
       "    <tr>\n",
       "      <th>7</th>\n",
       "      <td>7.667400</td>\n",
       "      <td>108000000.0</td>\n",
       "      <td>5.953803e+08</td>\n",
       "      <td>The Martian</td>\n",
       "      <td>Matt Damon  Jessica Chastain  Kristen Wiig  Je...</td>\n",
       "      <td>Ridley Scott</td>\n",
       "      <td>141</td>\n",
       "      <td>Drama Adventure ScienceFiction</td>\n",
       "      <td>Twentieth Century Fox Film Corporation  Scott ...</td>\n",
       "      <td>2015-09-30</td>\n",
       "      <td>4572.0</td>\n",
       "      <td>7.6</td>\n",
       "      <td>2015</td>\n",
       "      <td>9.935996e+07</td>\n",
       "      <td>5.477497e+08</td>\n",
       "      <td>5.512781</td>\n",
       "    </tr>\n",
       "  </tbody>\n",
       "</table>\n",
       "</div>"
      ],
      "text/plain": [
       "   popularity       budget       revenue                original_title  \\\n",
       "0   32.985763  150000000.0  1.513529e+09                Jurassic World   \n",
       "1   28.419936  150000000.0  3.784364e+08            Mad Max: Fury Road   \n",
       "2   13.112507  110000000.0  2.952382e+08                     Insurgent   \n",
       "3   11.173104  200000000.0  2.068178e+09  Star Wars: The Force Awakens   \n",
       "4    9.335014  190000000.0  1.506249e+09                     Furious 7   \n",
       "5    9.110700  135000000.0  5.329505e+08                  The Revenant   \n",
       "6    8.654359  155000000.0  4.406035e+08            Terminator Genisys   \n",
       "7    7.667400  108000000.0  5.953803e+08                   The Martian   \n",
       "\n",
       "                                                cast  \\\n",
       "0  Chris Pratt  Bryce Dallas Howard  Irrfan Khan ...   \n",
       "1  Tom Hardy  Charlize Theron  Hugh Keays-Byrne  ...   \n",
       "2  Shailene Woodley  Theo James  Kate Winslet  An...   \n",
       "3  Harrison Ford  Mark Hamill  Carrie Fisher  Ada...   \n",
       "4  Vin Diesel  Paul Walker  Jason Statham  Michel...   \n",
       "5  Leonardo DiCaprio  Tom Hardy  Will Poulter  Do...   \n",
       "6  Arnold Schwarzenegger  Jason Clarke  Emilia Cl...   \n",
       "7  Matt Damon  Jessica Chastain  Kristen Wiig  Je...   \n",
       "\n",
       "                         director  runtime  \\\n",
       "0                 Colin Trevorrow      124   \n",
       "1                   George Miller      120   \n",
       "2                Robert Schwentke      119   \n",
       "3                     J.J. Abrams      136   \n",
       "4                       James Wan      137   \n",
       "5  Alejandro GonzÃ¡lez IÃ±Ã¡rritu      156   \n",
       "6                     Alan Taylor      125   \n",
       "7                    Ridley Scott      141   \n",
       "\n",
       "                                     genres  \\\n",
       "0  Action Adventure ScienceFiction Thriller   \n",
       "1  Action Adventure ScienceFiction Thriller   \n",
       "2         Adventure ScienceFiction Thriller   \n",
       "3   Action Adventure ScienceFiction Fantasy   \n",
       "4                     Action Crime Thriller   \n",
       "5          Western Drama Adventure Thriller   \n",
       "6  ScienceFiction Action Thriller Adventure   \n",
       "7            Drama Adventure ScienceFiction   \n",
       "\n",
       "                                production_companies release_date  vote_count  \\\n",
       "0  Universal Studios  Amblin Entertainment  Legen...   2015-06-09      5562.0   \n",
       "1  Village Roadshow Pictures  Kennedy Miller Prod...   2015-05-13      6185.0   \n",
       "2  Summit Entertainment  Mandeville Films  Red Wa...   2015-03-18      2480.0   \n",
       "3        Lucasfilm  Truenorth Productions  Bad Robot   2015-12-15      5292.0   \n",
       "4  Universal Pictures  Original Film  Media Right...   2015-04-01      2947.0   \n",
       "5  Regency Enterprises  Appian Way  CatchPlay  An...   2015-12-25      3929.0   \n",
       "6           Paramount Pictures  Skydance Productions   2015-06-23      2598.0   \n",
       "7  Twentieth Century Fox Film Corporation  Scott ...   2015-09-30      4572.0   \n",
       "\n",
       "   vote_average  release_year    budget_adj   revenue_adj     return  \n",
       "0           6.5          2015  1.379999e+08  1.392446e+09  10.090192  \n",
       "1           7.1          2015  1.379999e+08  3.481613e+08   2.522909  \n",
       "2           6.3          2015  1.012000e+08  2.716190e+08   2.683984  \n",
       "3           7.5          2015  1.839999e+08  1.902723e+09  10.340891  \n",
       "4           7.3          2015  1.747999e+08  1.385749e+09   7.927628  \n",
       "5           7.2          2015  1.241999e+08  4.903142e+08   3.947782  \n",
       "6           5.8          2015  1.425999e+08  4.053551e+08   2.842603  \n",
       "7           7.6          2015  9.935996e+07  5.477497e+08   5.512781  "
      ]
     },
     "execution_count": 60,
     "metadata": {},
     "output_type": "execute_result"
    }
   ],
   "source": [
    "df3.head(8)"
   ]
  },
  {
   "cell_type": "code",
   "execution_count": 61,
   "id": "a6f8d9d3",
   "metadata": {},
   "outputs": [],
   "source": [
    "from sklearn.model_selection import train_test_split\n",
    "from sklearn.preprocessing import StandardScaler\n",
    "from sklearn.metrics import confusion_matrix, ConfusionMatrixDisplay"
   ]
  },
  {
   "cell_type": "code",
   "execution_count": 62,
   "id": "27c61314",
   "metadata": {},
   "outputs": [],
   "source": [
    "df3['budget'] = df3['budget'].apply(clean_numeric).astype('float')\n",
    "df3['revenue'] = df3['revenue'].apply(clean_numeric).astype('float')"
   ]
  },
  {
   "cell_type": "code",
   "execution_count": 63,
   "id": "e8b07812",
   "metadata": {},
   "outputs": [
    {
     "data": {
      "text/plain": [
       "count    3.855000e+03\n",
       "mean     3.720183e+07\n",
       "std      4.220291e+07\n",
       "min      1.000000e+00\n",
       "25%      1.000000e+07\n",
       "50%      2.400000e+07\n",
       "75%      5.000000e+07\n",
       "max      4.250000e+08\n",
       "Name: budget, dtype: float64"
      ]
     },
     "execution_count": 63,
     "metadata": {},
     "output_type": "execute_result"
    }
   ],
   "source": [
    "df3['budget'].describe()"
   ]
  },
  {
   "cell_type": "markdown",
   "id": "d4a2d487",
   "metadata": {},
   "source": [
    "Since we're looking at budget and revenues, I though we should dive into the returns on movies as well.  We can create a column called 'return' and get the value by taking the revenue, and dividing by the budget."
   ]
  },
  {
   "cell_type": "code",
   "execution_count": 64,
   "id": "9f86e2cc",
   "metadata": {},
   "outputs": [],
   "source": [
    "df3['return'] = df3['revenue'] / df3['budget']"
   ]
  },
  {
   "cell_type": "code",
   "execution_count": 65,
   "id": "904c62bf",
   "metadata": {},
   "outputs": [
    {
     "data": {
      "text/html": [
       "<div>\n",
       "<style scoped>\n",
       "    .dataframe tbody tr th:only-of-type {\n",
       "        vertical-align: middle;\n",
       "    }\n",
       "\n",
       "    .dataframe tbody tr th {\n",
       "        vertical-align: top;\n",
       "    }\n",
       "\n",
       "    .dataframe thead th {\n",
       "        text-align: right;\n",
       "    }\n",
       "</style>\n",
       "<table border=\"1\" class=\"dataframe\">\n",
       "  <thead>\n",
       "    <tr style=\"text-align: right;\">\n",
       "      <th></th>\n",
       "      <th>popularity</th>\n",
       "      <th>budget</th>\n",
       "      <th>revenue</th>\n",
       "      <th>original_title</th>\n",
       "      <th>cast</th>\n",
       "      <th>director</th>\n",
       "      <th>runtime</th>\n",
       "      <th>genres</th>\n",
       "      <th>production_companies</th>\n",
       "      <th>release_date</th>\n",
       "      <th>vote_count</th>\n",
       "      <th>vote_average</th>\n",
       "      <th>release_year</th>\n",
       "      <th>budget_adj</th>\n",
       "      <th>revenue_adj</th>\n",
       "      <th>return</th>\n",
       "    </tr>\n",
       "  </thead>\n",
       "  <tbody>\n",
       "    <tr>\n",
       "      <th>0</th>\n",
       "      <td>32.985763</td>\n",
       "      <td>150000000.0</td>\n",
       "      <td>1.513529e+09</td>\n",
       "      <td>Jurassic World</td>\n",
       "      <td>Chris Pratt  Bryce Dallas Howard  Irrfan Khan ...</td>\n",
       "      <td>Colin Trevorrow</td>\n",
       "      <td>124</td>\n",
       "      <td>Action Adventure ScienceFiction Thriller</td>\n",
       "      <td>Universal Studios  Amblin Entertainment  Legen...</td>\n",
       "      <td>2015-06-09</td>\n",
       "      <td>5562.0</td>\n",
       "      <td>6.5</td>\n",
       "      <td>2015</td>\n",
       "      <td>1.379999e+08</td>\n",
       "      <td>1.392446e+09</td>\n",
       "      <td>10.090192</td>\n",
       "    </tr>\n",
       "    <tr>\n",
       "      <th>1</th>\n",
       "      <td>28.419936</td>\n",
       "      <td>150000000.0</td>\n",
       "      <td>3.784364e+08</td>\n",
       "      <td>Mad Max: Fury Road</td>\n",
       "      <td>Tom Hardy  Charlize Theron  Hugh Keays-Byrne  ...</td>\n",
       "      <td>George Miller</td>\n",
       "      <td>120</td>\n",
       "      <td>Action Adventure ScienceFiction Thriller</td>\n",
       "      <td>Village Roadshow Pictures  Kennedy Miller Prod...</td>\n",
       "      <td>2015-05-13</td>\n",
       "      <td>6185.0</td>\n",
       "      <td>7.1</td>\n",
       "      <td>2015</td>\n",
       "      <td>1.379999e+08</td>\n",
       "      <td>3.481613e+08</td>\n",
       "      <td>2.522909</td>\n",
       "    </tr>\n",
       "    <tr>\n",
       "      <th>2</th>\n",
       "      <td>13.112507</td>\n",
       "      <td>110000000.0</td>\n",
       "      <td>2.952382e+08</td>\n",
       "      <td>Insurgent</td>\n",
       "      <td>Shailene Woodley  Theo James  Kate Winslet  An...</td>\n",
       "      <td>Robert Schwentke</td>\n",
       "      <td>119</td>\n",
       "      <td>Adventure ScienceFiction Thriller</td>\n",
       "      <td>Summit Entertainment  Mandeville Films  Red Wa...</td>\n",
       "      <td>2015-03-18</td>\n",
       "      <td>2480.0</td>\n",
       "      <td>6.3</td>\n",
       "      <td>2015</td>\n",
       "      <td>1.012000e+08</td>\n",
       "      <td>2.716190e+08</td>\n",
       "      <td>2.683984</td>\n",
       "    </tr>\n",
       "    <tr>\n",
       "      <th>3</th>\n",
       "      <td>11.173104</td>\n",
       "      <td>200000000.0</td>\n",
       "      <td>2.068178e+09</td>\n",
       "      <td>Star Wars: The Force Awakens</td>\n",
       "      <td>Harrison Ford  Mark Hamill  Carrie Fisher  Ada...</td>\n",
       "      <td>J.J. Abrams</td>\n",
       "      <td>136</td>\n",
       "      <td>Action Adventure ScienceFiction Fantasy</td>\n",
       "      <td>Lucasfilm  Truenorth Productions  Bad Robot</td>\n",
       "      <td>2015-12-15</td>\n",
       "      <td>5292.0</td>\n",
       "      <td>7.5</td>\n",
       "      <td>2015</td>\n",
       "      <td>1.839999e+08</td>\n",
       "      <td>1.902723e+09</td>\n",
       "      <td>10.340891</td>\n",
       "    </tr>\n",
       "    <tr>\n",
       "      <th>4</th>\n",
       "      <td>9.335014</td>\n",
       "      <td>190000000.0</td>\n",
       "      <td>1.506249e+09</td>\n",
       "      <td>Furious 7</td>\n",
       "      <td>Vin Diesel  Paul Walker  Jason Statham  Michel...</td>\n",
       "      <td>James Wan</td>\n",
       "      <td>137</td>\n",
       "      <td>Action Crime Thriller</td>\n",
       "      <td>Universal Pictures  Original Film  Media Right...</td>\n",
       "      <td>2015-04-01</td>\n",
       "      <td>2947.0</td>\n",
       "      <td>7.3</td>\n",
       "      <td>2015</td>\n",
       "      <td>1.747999e+08</td>\n",
       "      <td>1.385749e+09</td>\n",
       "      <td>7.927628</td>\n",
       "    </tr>\n",
       "  </tbody>\n",
       "</table>\n",
       "</div>"
      ],
      "text/plain": [
       "   popularity       budget       revenue                original_title  \\\n",
       "0   32.985763  150000000.0  1.513529e+09                Jurassic World   \n",
       "1   28.419936  150000000.0  3.784364e+08            Mad Max: Fury Road   \n",
       "2   13.112507  110000000.0  2.952382e+08                     Insurgent   \n",
       "3   11.173104  200000000.0  2.068178e+09  Star Wars: The Force Awakens   \n",
       "4    9.335014  190000000.0  1.506249e+09                     Furious 7   \n",
       "\n",
       "                                                cast          director  \\\n",
       "0  Chris Pratt  Bryce Dallas Howard  Irrfan Khan ...   Colin Trevorrow   \n",
       "1  Tom Hardy  Charlize Theron  Hugh Keays-Byrne  ...     George Miller   \n",
       "2  Shailene Woodley  Theo James  Kate Winslet  An...  Robert Schwentke   \n",
       "3  Harrison Ford  Mark Hamill  Carrie Fisher  Ada...       J.J. Abrams   \n",
       "4  Vin Diesel  Paul Walker  Jason Statham  Michel...         James Wan   \n",
       "\n",
       "   runtime                                    genres  \\\n",
       "0      124  Action Adventure ScienceFiction Thriller   \n",
       "1      120  Action Adventure ScienceFiction Thriller   \n",
       "2      119         Adventure ScienceFiction Thriller   \n",
       "3      136   Action Adventure ScienceFiction Fantasy   \n",
       "4      137                     Action Crime Thriller   \n",
       "\n",
       "                                production_companies release_date  vote_count  \\\n",
       "0  Universal Studios  Amblin Entertainment  Legen...   2015-06-09      5562.0   \n",
       "1  Village Roadshow Pictures  Kennedy Miller Prod...   2015-05-13      6185.0   \n",
       "2  Summit Entertainment  Mandeville Films  Red Wa...   2015-03-18      2480.0   \n",
       "3        Lucasfilm  Truenorth Productions  Bad Robot   2015-12-15      5292.0   \n",
       "4  Universal Pictures  Original Film  Media Right...   2015-04-01      2947.0   \n",
       "\n",
       "   vote_average  release_year    budget_adj   revenue_adj     return  \n",
       "0           6.5          2015  1.379999e+08  1.392446e+09  10.090192  \n",
       "1           7.1          2015  1.379999e+08  3.481613e+08   2.522909  \n",
       "2           6.3          2015  1.012000e+08  2.716190e+08   2.683984  \n",
       "3           7.5          2015  1.839999e+08  1.902723e+09  10.340891  \n",
       "4           7.3          2015  1.747999e+08  1.385749e+09   7.927628  "
      ]
     },
     "execution_count": 65,
     "metadata": {},
     "output_type": "execute_result"
    }
   ],
   "source": [
    "df3.head()"
   ]
  },
  {
   "cell_type": "code",
   "execution_count": 67,
   "id": "8e1154a8",
   "metadata": {},
   "outputs": [
    {
     "data": {
      "text/plain": [
       "count    3.855000e+03\n",
       "mean     1.076589e+08\n",
       "std      1.765248e+08\n",
       "min      2.000000e+00\n",
       "25%      1.357645e+07\n",
       "50%      4.479322e+07\n",
       "75%      1.241530e+08\n",
       "max      2.781506e+09\n",
       "Name: revenue, dtype: float64"
      ]
     },
     "execution_count": 67,
     "metadata": {},
     "output_type": "execute_result"
    }
   ],
   "source": [
    "df3['revenue'].describe()"
   ]
  },
  {
   "cell_type": "markdown",
   "id": "6400f84c",
   "metadata": {},
   "source": [
    "Describing the data that we just created and finding out the highest return movies.  Top spot going to ET, a classic flick that has returned 75x the budget.  Close behind is Star Wars and 70x return, and Jaws in 3rd on our list at a 67x on return."
   ]
  },
  {
   "cell_type": "code",
   "execution_count": 68,
   "id": "e4e8b412",
   "metadata": {},
   "outputs": [
    {
     "data": {
      "text/html": [
       "<div>\n",
       "<style scoped>\n",
       "    .dataframe tbody tr th:only-of-type {\n",
       "        vertical-align: middle;\n",
       "    }\n",
       "\n",
       "    .dataframe tbody tr th {\n",
       "        vertical-align: top;\n",
       "    }\n",
       "\n",
       "    .dataframe thead th {\n",
       "        text-align: right;\n",
       "    }\n",
       "</style>\n",
       "<table border=\"1\" class=\"dataframe\">\n",
       "  <thead>\n",
       "    <tr style=\"text-align: right;\">\n",
       "      <th></th>\n",
       "      <th>original_title</th>\n",
       "      <th>budget</th>\n",
       "      <th>revenue</th>\n",
       "      <th>return</th>\n",
       "      <th>release_year</th>\n",
       "    </tr>\n",
       "  </thead>\n",
       "  <tbody>\n",
       "    <tr>\n",
       "      <th>8889</th>\n",
       "      <td>E.T. the Extra-Terrestrial</td>\n",
       "      <td>10500000.0</td>\n",
       "      <td>7.929106e+08</td>\n",
       "      <td>75.515291</td>\n",
       "      <td>1982</td>\n",
       "    </tr>\n",
       "    <tr>\n",
       "      <th>1329</th>\n",
       "      <td>Star Wars</td>\n",
       "      <td>11000000.0</td>\n",
       "      <td>7.753980e+08</td>\n",
       "      <td>70.490728</td>\n",
       "      <td>1977</td>\n",
       "    </tr>\n",
       "    <tr>\n",
       "      <th>9806</th>\n",
       "      <td>Jaws</td>\n",
       "      <td>7000000.0</td>\n",
       "      <td>4.706540e+08</td>\n",
       "      <td>67.236286</td>\n",
       "      <td>1975</td>\n",
       "    </tr>\n",
       "    <tr>\n",
       "      <th>10594</th>\n",
       "      <td>The Exorcist</td>\n",
       "      <td>8000000.0</td>\n",
       "      <td>4.413061e+08</td>\n",
       "      <td>55.163268</td>\n",
       "      <td>1973</td>\n",
       "    </tr>\n",
       "    <tr>\n",
       "      <th>8094</th>\n",
       "      <td>The Net</td>\n",
       "      <td>22000000.0</td>\n",
       "      <td>1.106280e+09</td>\n",
       "      <td>50.285439</td>\n",
       "      <td>1995</td>\n",
       "    </tr>\n",
       "    <tr>\n",
       "      <th>4197</th>\n",
       "      <td>Four Weddings and a Funeral</td>\n",
       "      <td>6000000.0</td>\n",
       "      <td>2.547008e+08</td>\n",
       "      <td>42.450139</td>\n",
       "      <td>1994</td>\n",
       "    </tr>\n",
       "    <tr>\n",
       "      <th>7269</th>\n",
       "      <td>The Godfather</td>\n",
       "      <td>6000000.0</td>\n",
       "      <td>2.450664e+08</td>\n",
       "      <td>40.844402</td>\n",
       "      <td>1972</td>\n",
       "    </tr>\n",
       "    <tr>\n",
       "      <th>9193</th>\n",
       "      <td>Look Who's Talking</td>\n",
       "      <td>7500000.0</td>\n",
       "      <td>2.960000e+08</td>\n",
       "      <td>39.466667</td>\n",
       "      <td>1989</td>\n",
       "    </tr>\n",
       "    <tr>\n",
       "      <th>762</th>\n",
       "      <td>Annabelle</td>\n",
       "      <td>6500000.0</td>\n",
       "      <td>2.552738e+08</td>\n",
       "      <td>39.272894</td>\n",
       "      <td>2014</td>\n",
       "    </tr>\n",
       "    <tr>\n",
       "      <th>9596</th>\n",
       "      <td>Dirty Dancing</td>\n",
       "      <td>6000000.0</td>\n",
       "      <td>2.139543e+08</td>\n",
       "      <td>35.659046</td>\n",
       "      <td>1987</td>\n",
       "    </tr>\n",
       "  </tbody>\n",
       "</table>\n",
       "</div>"
      ],
      "text/plain": [
       "                    original_title      budget       revenue     return  \\\n",
       "8889    E.T. the Extra-Terrestrial  10500000.0  7.929106e+08  75.515291   \n",
       "1329                     Star Wars  11000000.0  7.753980e+08  70.490728   \n",
       "9806                          Jaws   7000000.0  4.706540e+08  67.236286   \n",
       "10594                 The Exorcist   8000000.0  4.413061e+08  55.163268   \n",
       "8094                       The Net  22000000.0  1.106280e+09  50.285439   \n",
       "4197   Four Weddings and a Funeral   6000000.0  2.547008e+08  42.450139   \n",
       "7269                 The Godfather   6000000.0  2.450664e+08  40.844402   \n",
       "9193            Look Who's Talking   7500000.0  2.960000e+08  39.466667   \n",
       "762                      Annabelle   6500000.0  2.552738e+08  39.272894   \n",
       "9596                 Dirty Dancing   6000000.0  2.139543e+08  35.659046   \n",
       "\n",
       "       release_year  \n",
       "8889           1982  \n",
       "1329           1977  \n",
       "9806           1975  \n",
       "10594          1973  \n",
       "8094           1995  \n",
       "4197           1994  \n",
       "7269           1972  \n",
       "9193           1989  \n",
       "762            2014  \n",
       "9596           1987  "
      ]
     },
     "execution_count": 68,
     "metadata": {},
     "output_type": "execute_result"
    }
   ],
   "source": [
    "#most succesful movies:\n",
    "\n",
    "df3[(df3['return'].notnull()) & (df3['budget'] > 5e6)][['original_title', 'budget', 'revenue', 'return', 'release_year']].sort_values('return', ascending=False).head(10)\n"
   ]
  },
  {
   "cell_type": "markdown",
   "id": "575b3a1c",
   "metadata": {},
   "source": [
    "Since we looked at the most sucessful movies, let's take a look at the least sucessful movies.  Some absolutely horrible returns we see on these movies."
   ]
  },
  {
   "cell_type": "code",
   "execution_count": 69,
   "id": "ae07f3d6",
   "metadata": {},
   "outputs": [
    {
     "data": {
      "text/html": [
       "<div>\n",
       "<style scoped>\n",
       "    .dataframe tbody tr th:only-of-type {\n",
       "        vertical-align: middle;\n",
       "    }\n",
       "\n",
       "    .dataframe tbody tr th {\n",
       "        vertical-align: top;\n",
       "    }\n",
       "\n",
       "    .dataframe thead th {\n",
       "        text-align: right;\n",
       "    }\n",
       "</style>\n",
       "<table border=\"1\" class=\"dataframe\">\n",
       "  <thead>\n",
       "    <tr style=\"text-align: right;\">\n",
       "      <th></th>\n",
       "      <th>original_title</th>\n",
       "      <th>budget</th>\n",
       "      <th>revenue</th>\n",
       "      <th>return</th>\n",
       "      <th>release_year</th>\n",
       "    </tr>\n",
       "  </thead>\n",
       "  <tbody>\n",
       "    <tr>\n",
       "      <th>6274</th>\n",
       "      <td>Chaos</td>\n",
       "      <td>12000000.0</td>\n",
       "      <td>10289.0</td>\n",
       "      <td>0.000857</td>\n",
       "      <td>2005</td>\n",
       "    </tr>\n",
       "    <tr>\n",
       "      <th>3573</th>\n",
       "      <td>5 Days of War</td>\n",
       "      <td>20000000.0</td>\n",
       "      <td>17479.0</td>\n",
       "      <td>0.000874</td>\n",
       "      <td>2011</td>\n",
       "    </tr>\n",
       "    <tr>\n",
       "      <th>4859</th>\n",
       "      <td>Foodfight!</td>\n",
       "      <td>65000000.0</td>\n",
       "      <td>73706.0</td>\n",
       "      <td>0.001134</td>\n",
       "      <td>2012</td>\n",
       "    </tr>\n",
       "    <tr>\n",
       "      <th>7637</th>\n",
       "      <td>The Good Night</td>\n",
       "      <td>15000000.0</td>\n",
       "      <td>20380.0</td>\n",
       "      <td>0.001359</td>\n",
       "      <td>2007</td>\n",
       "    </tr>\n",
       "    <tr>\n",
       "      <th>9638</th>\n",
       "      <td>Cherry 2000</td>\n",
       "      <td>10000000.0</td>\n",
       "      <td>14000.0</td>\n",
       "      <td>0.001400</td>\n",
       "      <td>1987</td>\n",
       "    </tr>\n",
       "    <tr>\n",
       "      <th>4535</th>\n",
       "      <td>Venuto al mondo</td>\n",
       "      <td>13000000.0</td>\n",
       "      <td>18295.0</td>\n",
       "      <td>0.001407</td>\n",
       "      <td>2012</td>\n",
       "    </tr>\n",
       "    <tr>\n",
       "      <th>331</th>\n",
       "      <td>Strangerland</td>\n",
       "      <td>10000000.0</td>\n",
       "      <td>17472.0</td>\n",
       "      <td>0.001747</td>\n",
       "      <td>2015</td>\n",
       "    </tr>\n",
       "    <tr>\n",
       "      <th>818</th>\n",
       "      <td>Barefoot</td>\n",
       "      <td>6000000.0</td>\n",
       "      <td>15071.0</td>\n",
       "      <td>0.002512</td>\n",
       "      <td>2014</td>\n",
       "    </tr>\n",
       "    <tr>\n",
       "      <th>5674</th>\n",
       "      <td>Jimmy P.</td>\n",
       "      <td>10000000.0</td>\n",
       "      <td>30283.0</td>\n",
       "      <td>0.003028</td>\n",
       "      <td>2013</td>\n",
       "    </tr>\n",
       "    <tr>\n",
       "      <th>4251</th>\n",
       "      <td>A Troll in Central Park</td>\n",
       "      <td>23000000.0</td>\n",
       "      <td>71368.0</td>\n",
       "      <td>0.003103</td>\n",
       "      <td>1994</td>\n",
       "    </tr>\n",
       "  </tbody>\n",
       "</table>\n",
       "</div>"
      ],
      "text/plain": [
       "               original_title      budget  revenue    return  release_year\n",
       "6274                    Chaos  12000000.0  10289.0  0.000857          2005\n",
       "3573            5 Days of War  20000000.0  17479.0  0.000874          2011\n",
       "4859               Foodfight!  65000000.0  73706.0  0.001134          2012\n",
       "7637           The Good Night  15000000.0  20380.0  0.001359          2007\n",
       "9638              Cherry 2000  10000000.0  14000.0  0.001400          1987\n",
       "4535          Venuto al mondo  13000000.0  18295.0  0.001407          2012\n",
       "331              Strangerland  10000000.0  17472.0  0.001747          2015\n",
       "818                  Barefoot   6000000.0  15071.0  0.002512          2014\n",
       "5674                 Jimmy P.  10000000.0  30283.0  0.003028          2013\n",
       "4251  A Troll in Central Park  23000000.0  71368.0  0.003103          1994"
      ]
     },
     "execution_count": 69,
     "metadata": {},
     "output_type": "execute_result"
    }
   ],
   "source": [
    "#least succesful movies:\n",
    "\n",
    "df3[(df3['return'].notnull()) & (df3['budget'] > 5e6) & (df3['revenue'] > 10000)][['original_title', 'budget', 'revenue', 'return', 'release_year']].sort_values('return').head(10)\n"
   ]
  },
  {
   "cell_type": "code",
   "execution_count": 70,
   "id": "7752109f",
   "metadata": {},
   "outputs": [
    {
     "data": {
      "text/html": [
       "<div>\n",
       "<style scoped>\n",
       "    .dataframe tbody tr th:only-of-type {\n",
       "        vertical-align: middle;\n",
       "    }\n",
       "\n",
       "    .dataframe tbody tr th {\n",
       "        vertical-align: top;\n",
       "    }\n",
       "\n",
       "    .dataframe thead th {\n",
       "        text-align: right;\n",
       "    }\n",
       "</style>\n",
       "<table border=\"1\" class=\"dataframe\">\n",
       "  <thead>\n",
       "    <tr style=\"text-align: right;\">\n",
       "      <th></th>\n",
       "      <th>popularity</th>\n",
       "      <th>budget</th>\n",
       "      <th>revenue</th>\n",
       "      <th>original_title</th>\n",
       "      <th>cast</th>\n",
       "      <th>director</th>\n",
       "      <th>runtime</th>\n",
       "      <th>genres</th>\n",
       "      <th>production_companies</th>\n",
       "      <th>release_date</th>\n",
       "      <th>vote_count</th>\n",
       "      <th>vote_average</th>\n",
       "      <th>release_year</th>\n",
       "      <th>budget_adj</th>\n",
       "      <th>revenue_adj</th>\n",
       "      <th>return</th>\n",
       "    </tr>\n",
       "  </thead>\n",
       "  <tbody>\n",
       "    <tr>\n",
       "      <th>0</th>\n",
       "      <td>32.985763</td>\n",
       "      <td>150000000.0</td>\n",
       "      <td>1.513529e+09</td>\n",
       "      <td>Jurassic World</td>\n",
       "      <td>Chris Pratt  Bryce Dallas Howard  Irrfan Khan ...</td>\n",
       "      <td>Colin Trevorrow</td>\n",
       "      <td>124</td>\n",
       "      <td>Action Adventure ScienceFiction Thriller</td>\n",
       "      <td>Universal Studios  Amblin Entertainment  Legen...</td>\n",
       "      <td>2015-06-09</td>\n",
       "      <td>5562.0</td>\n",
       "      <td>6.5</td>\n",
       "      <td>2015</td>\n",
       "      <td>1.379999e+08</td>\n",
       "      <td>1.392446e+09</td>\n",
       "      <td>10.090192</td>\n",
       "    </tr>\n",
       "    <tr>\n",
       "      <th>1</th>\n",
       "      <td>28.419936</td>\n",
       "      <td>150000000.0</td>\n",
       "      <td>3.784364e+08</td>\n",
       "      <td>Mad Max: Fury Road</td>\n",
       "      <td>Tom Hardy  Charlize Theron  Hugh Keays-Byrne  ...</td>\n",
       "      <td>George Miller</td>\n",
       "      <td>120</td>\n",
       "      <td>Action Adventure ScienceFiction Thriller</td>\n",
       "      <td>Village Roadshow Pictures  Kennedy Miller Prod...</td>\n",
       "      <td>2015-05-13</td>\n",
       "      <td>6185.0</td>\n",
       "      <td>7.1</td>\n",
       "      <td>2015</td>\n",
       "      <td>1.379999e+08</td>\n",
       "      <td>3.481613e+08</td>\n",
       "      <td>2.522909</td>\n",
       "    </tr>\n",
       "  </tbody>\n",
       "</table>\n",
       "</div>"
      ],
      "text/plain": [
       "   popularity       budget       revenue      original_title  \\\n",
       "0   32.985763  150000000.0  1.513529e+09      Jurassic World   \n",
       "1   28.419936  150000000.0  3.784364e+08  Mad Max: Fury Road   \n",
       "\n",
       "                                                cast         director  \\\n",
       "0  Chris Pratt  Bryce Dallas Howard  Irrfan Khan ...  Colin Trevorrow   \n",
       "1  Tom Hardy  Charlize Theron  Hugh Keays-Byrne  ...    George Miller   \n",
       "\n",
       "   runtime                                    genres  \\\n",
       "0      124  Action Adventure ScienceFiction Thriller   \n",
       "1      120  Action Adventure ScienceFiction Thriller   \n",
       "\n",
       "                                production_companies release_date  vote_count  \\\n",
       "0  Universal Studios  Amblin Entertainment  Legen...   2015-06-09      5562.0   \n",
       "1  Village Roadshow Pictures  Kennedy Miller Prod...   2015-05-13      6185.0   \n",
       "\n",
       "   vote_average  release_year    budget_adj   revenue_adj     return  \n",
       "0           6.5          2015  1.379999e+08  1.392446e+09  10.090192  \n",
       "1           7.1          2015  1.379999e+08  3.481613e+08   2.522909  "
      ]
     },
     "execution_count": 70,
     "metadata": {},
     "output_type": "execute_result"
    }
   ],
   "source": [
    "df3.head(2)"
   ]
  },
  {
   "cell_type": "code",
   "execution_count": 74,
   "id": "c30b2652",
   "metadata": {},
   "outputs": [],
   "source": [
    "s = df3.apply(lambda x: pd.Series(x['genres']),axis=1).stack().reset_index(level=1, drop=True)\n",
    "s.name = 'genre'"
   ]
  },
  {
   "cell_type": "code",
   "execution_count": 75,
   "id": "73b33913",
   "metadata": {},
   "outputs": [],
   "source": [
    "gen_df = df3.drop('genres', axis=1).join(s)\n"
   ]
  },
  {
   "cell_type": "code",
   "execution_count": 76,
   "id": "7d6d78d7",
   "metadata": {},
   "outputs": [
    {
     "data": {
      "text/plain": [
       "1053"
      ]
     },
     "execution_count": 76,
     "metadata": {},
     "output_type": "execute_result"
    }
   ],
   "source": [
    "gen_df['genre'].value_counts().shape[0]\n"
   ]
  },
  {
   "cell_type": "code",
   "execution_count": 77,
   "id": "d931d147",
   "metadata": {},
   "outputs": [
    {
     "data": {
      "text/html": [
       "<div>\n",
       "<style scoped>\n",
       "    .dataframe tbody tr th:only-of-type {\n",
       "        vertical-align: middle;\n",
       "    }\n",
       "\n",
       "    .dataframe tbody tr th {\n",
       "        vertical-align: top;\n",
       "    }\n",
       "\n",
       "    .dataframe thead th {\n",
       "        text-align: right;\n",
       "    }\n",
       "</style>\n",
       "<table border=\"1\" class=\"dataframe\">\n",
       "  <thead>\n",
       "    <tr style=\"text-align: right;\">\n",
       "      <th></th>\n",
       "      <th>genre</th>\n",
       "      <th>movies</th>\n",
       "    </tr>\n",
       "  </thead>\n",
       "  <tbody>\n",
       "    <tr>\n",
       "      <th>0</th>\n",
       "      <td>Drama</td>\n",
       "      <td>245</td>\n",
       "    </tr>\n",
       "    <tr>\n",
       "      <th>1</th>\n",
       "      <td>Comedy</td>\n",
       "      <td>233</td>\n",
       "    </tr>\n",
       "    <tr>\n",
       "      <th>2</th>\n",
       "      <td>Drama Romance</td>\n",
       "      <td>107</td>\n",
       "    </tr>\n",
       "    <tr>\n",
       "      <th>3</th>\n",
       "      <td>Comedy Romance</td>\n",
       "      <td>104</td>\n",
       "    </tr>\n",
       "    <tr>\n",
       "      <th>4</th>\n",
       "      <td>Comedy Drama Romance</td>\n",
       "      <td>91</td>\n",
       "    </tr>\n",
       "    <tr>\n",
       "      <th>5</th>\n",
       "      <td>Comedy Drama</td>\n",
       "      <td>88</td>\n",
       "    </tr>\n",
       "    <tr>\n",
       "      <th>6</th>\n",
       "      <td>Horror Thriller</td>\n",
       "      <td>81</td>\n",
       "    </tr>\n",
       "    <tr>\n",
       "      <th>7</th>\n",
       "      <td>Horror</td>\n",
       "      <td>58</td>\n",
       "    </tr>\n",
       "    <tr>\n",
       "      <th>8</th>\n",
       "      <td>Drama Thriller</td>\n",
       "      <td>48</td>\n",
       "    </tr>\n",
       "    <tr>\n",
       "      <th>9</th>\n",
       "      <td>Action Thriller</td>\n",
       "      <td>39</td>\n",
       "    </tr>\n",
       "  </tbody>\n",
       "</table>\n",
       "</div>"
      ],
      "text/plain": [
       "                  genre  movies\n",
       "0                 Drama     245\n",
       "1                Comedy     233\n",
       "2         Drama Romance     107\n",
       "3        Comedy Romance     104\n",
       "4  Comedy Drama Romance      91\n",
       "5          Comedy Drama      88\n",
       "6       Horror Thriller      81\n",
       "7                Horror      58\n",
       "8        Drama Thriller      48\n",
       "9       Action Thriller      39"
      ]
     },
     "execution_count": 77,
     "metadata": {},
     "output_type": "execute_result"
    }
   ],
   "source": [
    "pop_gen = pd.DataFrame(gen_df['genre'].value_counts()).reset_index()\n",
    "pop_gen.columns = ['genre', 'movies']\n",
    "pop_gen.head(10)"
   ]
  },
  {
   "cell_type": "code",
   "execution_count": 78,
   "id": "bc63a4a1",
   "metadata": {},
   "outputs": [
    {
     "data": {
      "text/plain": [
       "(3855, 16)"
      ]
     },
     "execution_count": 78,
     "metadata": {},
     "output_type": "execute_result"
    }
   ],
   "source": [
    "regresh = df3[df3['return'].notnull()]\n",
    "regresh.shape"
   ]
  },
  {
   "cell_type": "code",
   "execution_count": 79,
   "id": "7f58f3b5",
   "metadata": {},
   "outputs": [
    {
     "data": {
      "text/plain": [
       "Index(['popularity', 'budget', 'revenue', 'original_title', 'cast', 'director',\n",
       "       'runtime', 'genres', 'production_companies', 'release_date',\n",
       "       'vote_count', 'vote_average', 'release_year', 'budget_adj',\n",
       "       'revenue_adj', 'return'],\n",
       "      dtype='object')"
      ]
     },
     "execution_count": 79,
     "metadata": {},
     "output_type": "execute_result"
    }
   ],
   "source": [
    "regresh.columns"
   ]
  },
  {
   "cell_type": "code",
   "execution_count": 80,
   "id": "c427e7c8",
   "metadata": {},
   "outputs": [],
   "source": [
    "regresh = regresh.drop(['release_date', 'return'], axis=1)\n"
   ]
  },
  {
   "cell_type": "code",
   "execution_count": 81,
   "id": "7a52307c",
   "metadata": {},
   "outputs": [],
   "source": [
    "s = regresh.apply(lambda x: pd.Series(x['genres']),axis=1).stack().reset_index(level=1, drop=True)\n",
    "s.name = 'genre'\n",
    "gen_rgf = regresh.drop('genres', axis=1).join(s)\n",
    "genres_train = gen_rgf['genre'].drop_duplicates()"
   ]
  },
  {
   "cell_type": "code",
   "execution_count": 82,
   "id": "0c820512",
   "metadata": {},
   "outputs": [],
   "source": [
    "def feature_engineering(df3):\n",
    "    df3['genres'] = df3['genres'].apply(lambda x: len(x))\n",
    "    df3['production_companies'] = df3['production_companies'].apply(lambda x: len(x))\n",
    "    df3 = pd.get_dummies(df3, prefix='is')\n",
    "    df3['runtime'] = df3['runtime'].fillna(df3['runtime'].mean())\n",
    "    df3['vote_average'] = df3['vote_average'].fillna(df3['vote_average'].mean())\n",
    "    return df3"
   ]
  },
  {
   "cell_type": "code",
   "execution_count": 83,
   "id": "4d458a66",
   "metadata": {},
   "outputs": [],
   "source": [
    "X, y = regresh.drop('revenue', axis=1), regresh['revenue']"
   ]
  },
  {
   "cell_type": "code",
   "execution_count": 84,
   "id": "96a292d8",
   "metadata": {},
   "outputs": [],
   "source": [
    "X = feature_engineering(X)"
   ]
  },
  {
   "cell_type": "code",
   "execution_count": 85,
   "id": "34767d63",
   "metadata": {},
   "outputs": [],
   "source": [
    "train_X, test_X, train_y, test_y = train_test_split(X, y, train_size=0.75, test_size=0.25)\n"
   ]
  },
  {
   "cell_type": "code",
   "execution_count": 86,
   "id": "7af02fab",
   "metadata": {},
   "outputs": [
    {
     "data": {
      "text/plain": [
       "(3855, 9362)"
      ]
     },
     "execution_count": 86,
     "metadata": {},
     "output_type": "execute_result"
    }
   ],
   "source": [
    "X.shape\n"
   ]
  },
  {
   "cell_type": "code",
   "execution_count": 87,
   "id": "e9d1c34e",
   "metadata": {},
   "outputs": [],
   "source": [
    "from sklearn.ensemble import GradientBoostingClassifier, GradientBoostingRegressor\n"
   ]
  },
  {
   "cell_type": "code",
   "execution_count": 88,
   "id": "b0d14fa3",
   "metadata": {},
   "outputs": [
    {
     "data": {
      "text/plain": [
       "0.993791321157239"
      ]
     },
     "execution_count": 88,
     "metadata": {},
     "output_type": "execute_result"
    }
   ],
   "source": [
    "reg = GradientBoostingRegressor()\n",
    "reg.fit(train_X, train_y)\n",
    "reg.score(test_X, test_y)"
   ]
  },
  {
   "cell_type": "code",
   "execution_count": 89,
   "id": "4d739dee",
   "metadata": {},
   "outputs": [],
   "source": [
    "from sklearn.dummy import DummyClassifier, DummyRegressor\n"
   ]
  },
  {
   "cell_type": "code",
   "execution_count": 90,
   "id": "a299ff8d",
   "metadata": {},
   "outputs": [
    {
     "data": {
      "text/plain": [
       "-0.0010458705921472244"
      ]
     },
     "execution_count": 90,
     "metadata": {},
     "output_type": "execute_result"
    }
   ],
   "source": [
    "dummy = DummyRegressor()\n",
    "dummy.fit(train_X, train_y)\n",
    "dummy.score(test_X, test_y)"
   ]
  },
  {
   "cell_type": "code",
   "execution_count": 91,
   "id": "00cc6873",
   "metadata": {},
   "outputs": [
    {
     "data": {
      "text/plain": [
       "<AxesSubplot:>"
      ]
     },
     "execution_count": 91,
     "metadata": {},
     "output_type": "execute_result"
    },
    {
     "data": {
      "image/png": "[encoded data removed]",
      "text/plain": [
       "<Figure size 720x864 with 1 Axes>"
      ]
     },
     "metadata": {},
     "output_type": "display_data"
    }
   ],
   "source": [
    "#something gets messed up here - pretty sure it's because the shape of X is 9,362 columns, instead of a more manageable 35 or something...\n",
    "sns.set_style('whitegrid')\n",
    "plt.figure(figsize=(10,12))\n",
    "sns.barplot(x=reg.feature_importances_, y=X.columns)"
   ]
  },
  {
   "cell_type": "code",
   "execution_count": 118,
   "id": "ed49f92e",
   "metadata": {},
   "outputs": [
    {
     "data": {
      "text/plain": [
       "(3855, 16)"
      ]
     },
     "execution_count": 118,
     "metadata": {},
     "output_type": "execute_result"
    }
   ],
   "source": [
    "df3.shape"
   ]
  },
  {
   "cell_type": "code",
   "execution_count": null,
   "id": "648b54f5",
   "metadata": {},
   "outputs": [],
   "source": []
  }
 ],
 "metadata": {
  "kernelspec": {
   "display_name": "Python 3 (ipykernel)",
   "language": "python",
   "name": "python3"
  },
  "language_info": {
   "codemirror_mode": {
    "name": "ipython",
    "version": 3
   },
   "file_extension": ".py",
   "mimetype": "text/x-python",
   "name": "python",
   "nbconvert_exporter": "python",
   "pygments_lexer": "ipython3",
   "version": "3.9.7"
  }
 },
 "nbformat": 4,
 "nbformat_minor": 5
}
